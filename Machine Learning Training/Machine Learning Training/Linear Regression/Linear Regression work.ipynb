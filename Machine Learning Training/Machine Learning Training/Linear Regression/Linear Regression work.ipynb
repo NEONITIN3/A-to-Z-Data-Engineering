{
 "cells": [
  {
   "cell_type": "code",
   "execution_count": 1,
   "id": "cb254d8d",
   "metadata": {},
   "outputs": [
    {
     "ename": "ModuleNotFoundError",
     "evalue": "No module named 'numpy'",
     "output_type": "error",
     "traceback": [
      "\u001b[1;31m---------------------------------------------------------------------------\u001b[0m",
      "\u001b[1;31mModuleNotFoundError\u001b[0m                       Traceback (most recent call last)",
      "Cell \u001b[1;32mIn[1], line 1\u001b[0m\n\u001b[1;32m----> 1\u001b[0m \u001b[39mimport\u001b[39;00m \u001b[39mnumpy\u001b[39;00m \u001b[39mas\u001b[39;00m \u001b[39mnp\u001b[39;00m\n\u001b[0;32m      2\u001b[0m \u001b[39mimport\u001b[39;00m \u001b[39mpandas\u001b[39;00m \u001b[39mas\u001b[39;00m \u001b[39mpd\u001b[39;00m\n\u001b[0;32m      3\u001b[0m \u001b[39mimport\u001b[39;00m \u001b[39mmatplotlib\u001b[39;00m\u001b[39m.\u001b[39;00m\u001b[39mpyplot\u001b[39;00m \u001b[39mas\u001b[39;00m \u001b[39mplt\u001b[39;00m\n",
      "\u001b[1;31mModuleNotFoundError\u001b[0m: No module named 'numpy'"
     ]
    }
   ],
   "source": [
    "import numpy as np\n",
    "import pandas as pd\n",
    "import matplotlib.pyplot as plt\n",
    "import seaborn as c"
   ]
  },
  {
   "cell_type": "code",
   "execution_count": 2,
   "id": "1933b154",
   "metadata": {},
   "outputs": [
    {
     "name": "stdout",
     "output_type": "stream",
     "text": [
      "[1, 2, 3, 4, 5, 6, 7, 8, 9, 10, 11, 12, 13, 14, 15, 16, 17, 18, 19, 20, 21, 22, 23, 24, 25, 26, 27, 28, 29, 30, 31, 32, 33, 34, 35, 36, 37, 38, 39, 40, 41, 42, 43, 44, 45, 46, 47, 48, 49, 50, 51, 52, 53, 54, 55, 56, 57, 58, 59, 60, 61, 62, 63, 64, 65, 66, 67, 68, 69, 70, 71, 72, 73, 74, 75, 76, 77, 78, 79, 80, 81, 82, 83, 84, 85, 86, 87, 88, 89, 90, 91, 92, 93, 94, 95, 96, 97, 98, 99]\n",
      "3\n",
      "6\n",
      "11\n",
      "18\n",
      "27\n",
      "38\n",
      "51\n",
      "66\n",
      "83\n",
      "102\n",
      "123\n",
      "146\n",
      "171\n",
      "198\n",
      "227\n",
      "258\n",
      "291\n",
      "326\n",
      "363\n",
      "402\n",
      "443\n",
      "486\n",
      "531\n",
      "578\n",
      "627\n",
      "678\n",
      "731\n",
      "786\n",
      "843\n",
      "902\n",
      "963\n",
      "1026\n",
      "1091\n",
      "1158\n",
      "1227\n",
      "1298\n",
      "1371\n",
      "1446\n",
      "1523\n",
      "1602\n",
      "1683\n",
      "1766\n",
      "1851\n",
      "1938\n",
      "2027\n",
      "2118\n",
      "2211\n",
      "2306\n",
      "2403\n",
      "2502\n",
      "2603\n",
      "2706\n",
      "2811\n",
      "2918\n",
      "3027\n",
      "3138\n",
      "3251\n",
      "3366\n",
      "3483\n",
      "3602\n",
      "3723\n",
      "3846\n",
      "3971\n",
      "4098\n",
      "4227\n",
      "4358\n",
      "4491\n",
      "4626\n",
      "4763\n",
      "4902\n",
      "5043\n",
      "5186\n",
      "5331\n",
      "5478\n",
      "5627\n",
      "5778\n",
      "5931\n",
      "6086\n",
      "6243\n",
      "6402\n",
      "6563\n",
      "6726\n",
      "6891\n",
      "7058\n",
      "7227\n",
      "7398\n",
      "7571\n",
      "7746\n",
      "7923\n",
      "8102\n",
      "8283\n",
      "8466\n",
      "8651\n",
      "8838\n",
      "9027\n",
      "9218\n",
      "9411\n",
      "9606\n",
      "9803\n",
      "[3, 6, 11, 18, 27, 38, 51, 66, 83, 102, 123, 146, 171, 198, 227, 258, 291, 326, 363, 402, 443, 486, 531, 578, 627, 678, 731, 786, 843, 902, 963, 1026, 1091, 1158, 1227, 1298, 1371, 1446, 1523, 1602, 1683, 1766, 1851, 1938, 2027, 2118, 2211, 2306, 2403, 2502, 2603, 2706, 2811, 2918, 3027, 3138, 3251, 3366, 3483, 3602, 3723, 3846, 3971, 4098, 4227, 4358, 4491, 4626, 4763, 4902, 5043, 5186, 5331, 5478, 5627, 5778, 5931, 6086, 6243, 6402, 6563, 6726, 6891, 7058, 7227, 7398, 7571, 7746, 7923, 8102, 8283, 8466, 8651, 8838, 9027, 9218, 9411, 9606, 9803]\n"
     ]
    }
   ],
   "source": [
    "x = list(range(1,100))\n",
    "y= []\n",
    "print(x)\n",
    "for i in x:\n",
    "    a = 2+(i*i)\n",
    "    y.append(a)\n",
    "    print(a)\n",
    "print(y)\n",
    "\n"
   ]
  },
  {
   "cell_type": "code",
   "execution_count": 3,
   "id": "5f126877",
   "metadata": {},
   "outputs": [
    {
     "data": {
      "text/plain": [
       "[<matplotlib.lines.Line2D at 0x22f6a3dc910>]"
      ]
     },
     "execution_count": 3,
     "metadata": {},
     "output_type": "execute_result"
    },
    {
     "data": {
      "image/png": "[encoded data removed]",
      "text/plain": [
       "<Figure size 640x480 with 1 Axes>"
      ]
     },
     "metadata": {},
     "output_type": "display_data"
    }
   ],
   "source": [
    "plt.plot(x,y)"
   ]
  },
  {
   "cell_type": "code",
   "execution_count": 4,
   "id": "32180d64",
   "metadata": {},
   "outputs": [
    {
     "data": {
      "text/html": [
       "<div>\n",
       "<style scoped>\n",
       "    .dataframe tbody tr th:only-of-type {\n",
       "        vertical-align: middle;\n",
       "    }\n",
       "\n",
       "    .dataframe tbody tr th {\n",
       "        vertical-align: top;\n",
       "    }\n",
       "\n",
       "    .dataframe thead th {\n",
       "        text-align: right;\n",
       "    }\n",
       "</style>\n",
       "<table border=\"1\" class=\"dataframe\">\n",
       "  <thead>\n",
       "    <tr style=\"text-align: right;\">\n",
       "      <th></th>\n",
       "      <th>0</th>\n",
       "    </tr>\n",
       "  </thead>\n",
       "  <tbody>\n",
       "    <tr>\n",
       "      <th>3</th>\n",
       "      <td>1</td>\n",
       "    </tr>\n",
       "    <tr>\n",
       "      <th>6</th>\n",
       "      <td>2</td>\n",
       "    </tr>\n",
       "    <tr>\n",
       "      <th>11</th>\n",
       "      <td>3</td>\n",
       "    </tr>\n",
       "    <tr>\n",
       "      <th>18</th>\n",
       "      <td>4</td>\n",
       "    </tr>\n",
       "    <tr>\n",
       "      <th>27</th>\n",
       "      <td>5</td>\n",
       "    </tr>\n",
       "    <tr>\n",
       "      <th>...</th>\n",
       "      <td>...</td>\n",
       "    </tr>\n",
       "    <tr>\n",
       "      <th>9027</th>\n",
       "      <td>95</td>\n",
       "    </tr>\n",
       "    <tr>\n",
       "      <th>9218</th>\n",
       "      <td>96</td>\n",
       "    </tr>\n",
       "    <tr>\n",
       "      <th>9411</th>\n",
       "      <td>97</td>\n",
       "    </tr>\n",
       "    <tr>\n",
       "      <th>9606</th>\n",
       "      <td>98</td>\n",
       "    </tr>\n",
       "    <tr>\n",
       "      <th>9803</th>\n",
       "      <td>99</td>\n",
       "    </tr>\n",
       "  </tbody>\n",
       "</table>\n",
       "<p>99 rows × 1 columns</p>\n",
       "</div>"
      ],
      "text/plain": [
       "       0\n",
       "3      1\n",
       "6      2\n",
       "11     3\n",
       "18     4\n",
       "27     5\n",
       "...   ..\n",
       "9027  95\n",
       "9218  96\n",
       "9411  97\n",
       "9606  98\n",
       "9803  99\n",
       "\n",
       "[99 rows x 1 columns]"
      ]
     },
     "execution_count": 4,
     "metadata": {},
     "output_type": "execute_result"
    }
   ],
   "source": [
    "pd.DataFrame(x,y)"
   ]
  },
  {
   "cell_type": "code",
   "execution_count": null,
   "id": "fe761466",
   "metadata": {},
   "outputs": [],
   "source": []
  },
  {
   "cell_type": "markdown",
   "id": "b895dc18",
   "metadata": {},
   "source": [
    "# <<<<<<<<<<<<<< salary file analysis--->>>>>>>>>>>>>>>>>>>>>>>>>>>>>"
   ]
  },
  {
   "cell_type": "code",
   "execution_count": 5,
   "id": "0504b54d",
   "metadata": {},
   "outputs": [
    {
     "data": {
      "text/html": [
       "<div>\n",
       "<style scoped>\n",
       "    .dataframe tbody tr th:only-of-type {\n",
       "        vertical-align: middle;\n",
       "    }\n",
       "\n",
       "    .dataframe tbody tr th {\n",
       "        vertical-align: top;\n",
       "    }\n",
       "\n",
       "    .dataframe thead th {\n",
       "        text-align: right;\n",
       "    }\n",
       "</style>\n",
       "<table border=\"1\" class=\"dataframe\">\n",
       "  <thead>\n",
       "    <tr style=\"text-align: right;\">\n",
       "      <th></th>\n",
       "      <th>YearsExperience</th>\n",
       "      <th>Salary</th>\n",
       "    </tr>\n",
       "  </thead>\n",
       "  <tbody>\n",
       "    <tr>\n",
       "      <th>0</th>\n",
       "      <td>1.1</td>\n",
       "      <td>39343</td>\n",
       "    </tr>\n",
       "    <tr>\n",
       "      <th>1</th>\n",
       "      <td>1.3</td>\n",
       "      <td>46205</td>\n",
       "    </tr>\n",
       "    <tr>\n",
       "      <th>2</th>\n",
       "      <td>1.5</td>\n",
       "      <td>37731</td>\n",
       "    </tr>\n",
       "    <tr>\n",
       "      <th>3</th>\n",
       "      <td>2.0</td>\n",
       "      <td>43525</td>\n",
       "    </tr>\n",
       "    <tr>\n",
       "      <th>4</th>\n",
       "      <td>2.2</td>\n",
       "      <td>39891</td>\n",
       "    </tr>\n",
       "    <tr>\n",
       "      <th>5</th>\n",
       "      <td>2.9</td>\n",
       "      <td>56642</td>\n",
       "    </tr>\n",
       "    <tr>\n",
       "      <th>6</th>\n",
       "      <td>3.0</td>\n",
       "      <td>60150</td>\n",
       "    </tr>\n",
       "    <tr>\n",
       "      <th>7</th>\n",
       "      <td>3.2</td>\n",
       "      <td>54445</td>\n",
       "    </tr>\n",
       "    <tr>\n",
       "      <th>8</th>\n",
       "      <td>3.2</td>\n",
       "      <td>64445</td>\n",
       "    </tr>\n",
       "    <tr>\n",
       "      <th>9</th>\n",
       "      <td>3.7</td>\n",
       "      <td>57189</td>\n",
       "    </tr>\n",
       "    <tr>\n",
       "      <th>10</th>\n",
       "      <td>3.9</td>\n",
       "      <td>63218</td>\n",
       "    </tr>\n",
       "    <tr>\n",
       "      <th>11</th>\n",
       "      <td>4.0</td>\n",
       "      <td>55794</td>\n",
       "    </tr>\n",
       "    <tr>\n",
       "      <th>12</th>\n",
       "      <td>4.0</td>\n",
       "      <td>56957</td>\n",
       "    </tr>\n",
       "    <tr>\n",
       "      <th>13</th>\n",
       "      <td>4.1</td>\n",
       "      <td>57081</td>\n",
       "    </tr>\n",
       "    <tr>\n",
       "      <th>14</th>\n",
       "      <td>4.5</td>\n",
       "      <td>61111</td>\n",
       "    </tr>\n",
       "    <tr>\n",
       "      <th>15</th>\n",
       "      <td>4.9</td>\n",
       "      <td>67938</td>\n",
       "    </tr>\n",
       "    <tr>\n",
       "      <th>16</th>\n",
       "      <td>5.1</td>\n",
       "      <td>66029</td>\n",
       "    </tr>\n",
       "    <tr>\n",
       "      <th>17</th>\n",
       "      <td>5.3</td>\n",
       "      <td>83088</td>\n",
       "    </tr>\n",
       "    <tr>\n",
       "      <th>18</th>\n",
       "      <td>5.9</td>\n",
       "      <td>81363</td>\n",
       "    </tr>\n",
       "    <tr>\n",
       "      <th>19</th>\n",
       "      <td>6.0</td>\n",
       "      <td>93940</td>\n",
       "    </tr>\n",
       "    <tr>\n",
       "      <th>20</th>\n",
       "      <td>6.8</td>\n",
       "      <td>91738</td>\n",
       "    </tr>\n",
       "    <tr>\n",
       "      <th>21</th>\n",
       "      <td>7.1</td>\n",
       "      <td>98273</td>\n",
       "    </tr>\n",
       "    <tr>\n",
       "      <th>22</th>\n",
       "      <td>7.9</td>\n",
       "      <td>101302</td>\n",
       "    </tr>\n",
       "    <tr>\n",
       "      <th>23</th>\n",
       "      <td>8.2</td>\n",
       "      <td>113812</td>\n",
       "    </tr>\n",
       "    <tr>\n",
       "      <th>24</th>\n",
       "      <td>8.7</td>\n",
       "      <td>109431</td>\n",
       "    </tr>\n",
       "    <tr>\n",
       "      <th>25</th>\n",
       "      <td>9.0</td>\n",
       "      <td>105582</td>\n",
       "    </tr>\n",
       "    <tr>\n",
       "      <th>26</th>\n",
       "      <td>9.5</td>\n",
       "      <td>116969</td>\n",
       "    </tr>\n",
       "    <tr>\n",
       "      <th>27</th>\n",
       "      <td>9.6</td>\n",
       "      <td>112635</td>\n",
       "    </tr>\n",
       "    <tr>\n",
       "      <th>28</th>\n",
       "      <td>10.3</td>\n",
       "      <td>122391</td>\n",
       "    </tr>\n",
       "    <tr>\n",
       "      <th>29</th>\n",
       "      <td>10.5</td>\n",
       "      <td>121872</td>\n",
       "    </tr>\n",
       "    <tr>\n",
       "      <th>30</th>\n",
       "      <td>5.6</td>\n",
       "      <td>77982</td>\n",
       "    </tr>\n",
       "    <tr>\n",
       "      <th>31</th>\n",
       "      <td>3.2</td>\n",
       "      <td>55015</td>\n",
       "    </tr>\n",
       "    <tr>\n",
       "      <th>32</th>\n",
       "      <td>1.5</td>\n",
       "      <td>38747</td>\n",
       "    </tr>\n",
       "    <tr>\n",
       "      <th>33</th>\n",
       "      <td>1.9</td>\n",
       "      <td>42575</td>\n",
       "    </tr>\n",
       "    <tr>\n",
       "      <th>34</th>\n",
       "      <td>10.5</td>\n",
       "      <td>124873</td>\n",
       "    </tr>\n",
       "  </tbody>\n",
       "</table>\n",
       "</div>"
      ],
      "text/plain": [
       "    YearsExperience  Salary\n",
       "0               1.1   39343\n",
       "1               1.3   46205\n",
       "2               1.5   37731\n",
       "3               2.0   43525\n",
       "4               2.2   39891\n",
       "5               2.9   56642\n",
       "6               3.0   60150\n",
       "7               3.2   54445\n",
       "8               3.2   64445\n",
       "9               3.7   57189\n",
       "10              3.9   63218\n",
       "11              4.0   55794\n",
       "12              4.0   56957\n",
       "13              4.1   57081\n",
       "14              4.5   61111\n",
       "15              4.9   67938\n",
       "16              5.1   66029\n",
       "17              5.3   83088\n",
       "18              5.9   81363\n",
       "19              6.0   93940\n",
       "20              6.8   91738\n",
       "21              7.1   98273\n",
       "22              7.9  101302\n",
       "23              8.2  113812\n",
       "24              8.7  109431\n",
       "25              9.0  105582\n",
       "26              9.5  116969\n",
       "27              9.6  112635\n",
       "28             10.3  122391\n",
       "29             10.5  121872\n",
       "30              5.6   77982\n",
       "31              3.2   55015\n",
       "32              1.5   38747\n",
       "33              1.9   42575\n",
       "34             10.5  124873"
      ]
     },
     "execution_count": 5,
     "metadata": {},
     "output_type": "execute_result"
    }
   ],
   "source": [
    "salary_df = pd.read_csv('salary_data.csv')\n",
    "salary_df"
   ]
  },
  {
   "cell_type": "markdown",
   "id": "4fb6a3f5",
   "metadata": {},
   "source": [
    "# without label ploting "
   ]
  },
  {
   "cell_type": "code",
   "execution_count": 6,
   "id": "bdb8c581",
   "metadata": {},
   "outputs": [
    {
     "data": {
      "text/plain": [
       "[<matplotlib.lines.Line2D at 0x22f6ab59a60>]"
      ]
     },
     "execution_count": 6,
     "metadata": {},
     "output_type": "execute_result"
    },
    {
     "data": {
      "image/png": "[encoded data removed]",
      "text/plain": [
       "<Figure size 640x480 with 1 Axes>"
      ]
     },
     "metadata": {},
     "output_type": "display_data"
    }
   ],
   "source": [
    "x = salary_df['YearsExperience']\n",
    "y = salary_df['Salary']\n",
    "plt.plot(x,y)\n"
   ]
  },
  {
   "cell_type": "markdown",
   "id": "736f98c9",
   "metadata": {},
   "source": [
    "# with label and title graph"
   ]
  },
  {
   "cell_type": "code",
   "execution_count": 7,
   "id": "0009c984",
   "metadata": {},
   "outputs": [
    {
     "data": {
      "image/png": "[encoded data removed]",
      "text/plain": [
       "<Figure size 640x480 with 1 Axes>"
      ]
     },
     "metadata": {},
     "output_type": "display_data"
    }
   ],
   "source": [
    "plt.plot(x,y)\n",
    "plt.xlabel('Years of Experience')\n",
    "plt.ylabel('Salary')\n",
    "plt.title('SALARY vs EXPERIENCE')\n",
    "plt.show()"
   ]
  },
  {
   "cell_type": "markdown",
   "id": "23d719bb",
   "metadata": {},
   "source": [
    "# adding color "
   ]
  },
  {
   "cell_type": "code",
   "execution_count": 8,
   "id": "275022b2",
   "metadata": {},
   "outputs": [
    {
     "data": {
      "image/png": "[encoded data removed]",
      "text/plain": [
       "<Figure size 640x480 with 1 Axes>"
      ]
     },
     "metadata": {},
     "output_type": "display_data"
    }
   ],
   "source": [
    "plt.plot(x,y,color='yellow')\n",
    "plt.xlabel('Years of Experience',color='red',size=20)\n",
    "plt.ylabel('Salary',color = 'blue',size=20)\n",
    "plt.title('SALARY vs EXPERIENCE',color='green',size=20)\n",
    "plt.show()"
   ]
  },
  {
   "cell_type": "code",
   "execution_count": 9,
   "id": "57750be8",
   "metadata": {},
   "outputs": [
    {
     "data": {
      "text/plain": [
       "Text(0.5, 1.0, 'SALARY vs EXPERIENCE')"
      ]
     },
     "execution_count": 9,
     "metadata": {},
     "output_type": "execute_result"
    },
    {
     "data": {
      "image/png": "[encoded data removed]",
      "text/plain": [
       "<Figure size 640x480 with 1 Axes>"
      ]
     },
     "metadata": {},
     "output_type": "display_data"
    }
   ],
   "source": [
    "plt.scatter(salary_df['YearsExperience'], salary_df['Salary'],color='red')\n",
    "plt.xlabel('Years of Experience',color='red',size=20)\n",
    "plt.ylabel('Salary',color = 'blue',size=20)\n",
    "plt.title('SALARY vs EXPERIENCE',color='green',size=20)"
   ]
  },
  {
   "cell_type": "code",
   "execution_count": 10,
   "id": "6238e3f9",
   "metadata": {},
   "outputs": [
    {
     "data": {
      "text/plain": [
       "Text(0.5, 1.0, 'SALARY vs EXPERIENCE')"
      ]
     },
     "execution_count": 10,
     "metadata": {},
     "output_type": "execute_result"
    },
    {
     "data": {
      "image/png": "[encoded data removed]",
      "text/plain": [
       "<Figure size 640x480 with 1 Axes>"
      ]
     },
     "metadata": {},
     "output_type": "display_data"
    }
   ],
   "source": [
    "plt.bar(salary_df['YearsExperience'], salary_df['Salary'],color='red',width=0.25)\n",
    "plt.xlabel('Years of Experience',color='red',size=20)\n",
    "plt.ylabel('Salary',color = 'blue',size=20)\n",
    "plt.title('SALARY vs EXPERIENCE',color='green',size=20)"
   ]
  },
  {
   "cell_type": "markdown",
   "id": "c563a155",
   "metadata": {},
   "source": [
    "# x and y values"
   ]
  },
  {
   "cell_type": "code",
   "execution_count": 11,
   "id": "13ef9d68",
   "metadata": {},
   "outputs": [
    {
     "name": "stdout",
     "output_type": "stream",
     "text": [
      "x-  [ 1.1  1.3  1.5  2.   2.2  2.9  3.   3.2  3.2  3.7  3.9  4.   4.   4.1\n",
      "  4.5  4.9  5.1  5.3  5.9  6.   6.8  7.1  7.9  8.2  8.7  9.   9.5  9.6\n",
      " 10.3 10.5  5.6  3.2  1.5  1.9 10.5]\n",
      "y-  [ 39343  46205  37731  43525  39891  56642  60150  54445  64445  57189\n",
      "  63218  55794  56957  57081  61111  67938  66029  83088  81363  93940\n",
      "  91738  98273 101302 113812 109431 105582 116969 112635 122391 121872\n",
      "  77982  55015  38747  42575 124873]\n"
     ]
    }
   ],
   "source": [
    "data_x = salary_df['YearsExperience'].values\n",
    "data_y = salary_df['Salary'].values\n",
    "print('x- ', data_x)\n",
    "print('y- ',data_y)"
   ]
  },
  {
   "cell_type": "markdown",
   "id": "a8b34384",
   "metadata": {},
   "source": [
    "# reading data with iloc"
   ]
  },
  {
   "cell_type": "code",
   "execution_count": 12,
   "id": "5c8b134e",
   "metadata": {},
   "outputs": [
    {
     "name": "stdout",
     "output_type": "stream",
     "text": [
      "X - [ 1.1  1.3  1.5  2.   2.2  2.9  3.   3.2  3.2  3.7  3.9  4.   4.   4.1\n",
      "  4.5  4.9  5.1  5.3  5.9  6.   6.8  7.1  7.9  8.2  8.7  9.   9.5  9.6\n",
      " 10.3 10.5  5.6  3.2  1.5  1.9 10.5]\n",
      "Y - [ 39343  46205  37731  43525  39891  56642  60150  54445  64445  57189\n",
      "  63218  55794  56957  57081  61111  67938  66029  83088  81363  93940\n",
      "  91738  98273 101302 113812 109431 105582 116969 112635 122391 121872\n",
      "  77982  55015  38747  42575 124873]\n"
     ]
    }
   ],
   "source": [
    "# Read the data to X and Y by slicing\n",
    "data_X = salary_df.iloc[:, 0].values  # all the row, 0th column\n",
    "data_Y = salary_df.iloc[:, 1].values  # all the row ,1st column\n",
    "\n",
    "print('X -', data_X)\n",
    "print('Y -', data_Y)"
   ]
  },
  {
   "cell_type": "markdown",
   "id": "b299ee46",
   "metadata": {},
   "source": [
    "# counting the null record in each column"
   ]
  },
  {
   "cell_type": "code",
   "execution_count": 13,
   "id": "1bb0230b",
   "metadata": {},
   "outputs": [
    {
     "data": {
      "text/plain": [
       "YearsExperience    0\n",
       "Salary             0\n",
       "dtype: int64"
      ]
     },
     "execution_count": 13,
     "metadata": {},
     "output_type": "execute_result"
    }
   ],
   "source": [
    "salary_df.isnull().sum()"
   ]
  },
  {
   "cell_type": "markdown",
   "id": "38dfa974",
   "metadata": {},
   "source": [
    "# shape"
   ]
  },
  {
   "cell_type": "code",
   "execution_count": 14,
   "id": "f30f107e",
   "metadata": {},
   "outputs": [
    {
     "data": {
      "text/plain": [
       "(35, 2)"
      ]
     },
     "execution_count": 14,
     "metadata": {},
     "output_type": "execute_result"
    }
   ],
   "source": [
    "salary_df.shape #(row,colomn)"
   ]
  },
  {
   "cell_type": "markdown",
   "id": "f928c97e",
   "metadata": {},
   "source": [
    "# Split the dataset to train and test data"
   ]
  },
  {
   "cell_type": "code",
   "execution_count": 15,
   "id": "ab981990",
   "metadata": {},
   "outputs": [],
   "source": [
    "# X_train = salary_df.iloc[:28,0] # from 0-27 row for column 0 \n",
    "# Y_train = salary_df.iloc[:28,1]  # starting to till 27 row for clumn 1\n",
    "\n",
    "# # test (rest data will be use for testing)\n",
    "# X_test = salary_df.iloc[28:,0]\n",
    "# Y_test = salary_df.iloc[28:,0]\n",
    "\n",
    "# print('X_train_data',X_train)\n",
    "# print('X_train_data',Y_train)"
   ]
  },
  {
   "cell_type": "code",
   "execution_count": 16,
   "id": "a90cdb26",
   "metadata": {},
   "outputs": [
    {
     "name": "stdout",
     "output_type": "stream",
     "text": [
      "X_train_data [1.1 1.3 1.5 2.  2.2 2.9 3.  3.2 3.2 3.7 3.9 4.  4.  4.1 4.5 4.9 5.1 5.3\n",
      " 5.9 6.  6.8 7.1 7.9 8.2 8.7 9.  9.5 9.6]\n",
      "X_train_data [ 39343  46205  37731  43525  39891  56642  60150  54445  64445  57189\n",
      "  63218  55794  56957  57081  61111  67938  66029  83088  81363  93940\n",
      "  91738  98273 101302 113812 109431 105582 116969 112635]\n",
      "<><><><><><><><><><><><><><><><><><><><><><><><><><><><><><><><><><><><><><><><><><><><><><><><><><><><><><><><><><><><>\n",
      "X_test_data [10.3 10.5  5.6  3.2  1.5  1.9 10.5]\n",
      "X_test_data [122391 121872  77982  55015  38747  42575 124873]\n"
     ]
    }
   ],
   "source": [
    "X_train = salary_df.iloc[:28,0].values # from 0-27 row for column 0 \n",
    "Y_train = salary_df.iloc[:28,1].values # starting to till 27 row for clumn 1\n",
    "\n",
    "# test (rest data will be use for testing)\n",
    "X_test = salary_df.iloc[28:,0].values\n",
    "Y_test = salary_df.iloc[28:,1].values\n",
    "\n",
    "print('X_train_data',X_train)\n",
    "print('X_train_data',Y_train)\n",
    "\n",
    "print('<>'*60)\n",
    "\n",
    "print('X_test_data',X_test)\n",
    "print('X_test_data',Y_test)"
   ]
  },
  {
   "cell_type": "markdown",
   "id": "5e0bd9ac",
   "metadata": {},
   "source": [
    "# from sklearn.model_selection import train_test_split for spliting the data"
   ]
  },
  {
   "cell_type": "code",
   "execution_count": 17,
   "id": "4f88aeb6",
   "metadata": {},
   "outputs": [],
   "source": [
    "from sklearn.model_selection import train_test_split\n",
    "X_train,X_test,Y_train,Y_test = train_test_split(data_x,data_y,test_size = 0.2,random_state = 5) # 20 % will be test size rest train"
   ]
  },
  {
   "cell_type": "code",
   "execution_count": 18,
   "id": "2a66e5fb",
   "metadata": {},
   "outputs": [
    {
     "name": "stdout",
     "output_type": "stream",
     "text": [
      "Shape of X_train - (28,) - 6.0\n",
      "Shape of X_test - (7,) - 3.2\n",
      "Shape of Y_train - (28,) - 93940\n",
      "Shape of Y_test - (7,) - 55015\n"
     ]
    }
   ],
   "source": [
    "print('Shape of X_train -', X_train.shape, '-', X_train[0])\n",
    "print('Shape of X_test -', X_test.shape, '-', X_test[0])\n",
    "print('Shape of Y_train -', Y_train.shape, '-', Y_train[0])\n",
    "print('Shape of Y_test -', Y_test.shape, '-', Y_test[0])"
   ]
  },
  {
   "cell_type": "code",
   "execution_count": 19,
   "id": "373d6d8d",
   "metadata": {},
   "outputs": [
    {
     "name": "stdout",
     "output_type": "stream",
     "text": [
      "Shape of X_test - (28,)\n"
     ]
    }
   ],
   "source": [
    "print('Shape of X_test -', Y_train.shape)"
   ]
  },
  {
   "cell_type": "code",
   "execution_count": 20,
   "id": "09581e55",
   "metadata": {},
   "outputs": [
    {
     "data": {
      "text/plain": [
       "array([ 0.94509103,  0.15332728,  0.35939735,  0.85444834,  2.95328799,\n",
       "        0.86290472, -1.08063477,  2.75583439, -1.24672138,  0.9526522 ,\n",
       "       -0.34254704, -1.00650462,  1.25926404,  6.20299725, -1.35376935,\n",
       "        0.57716738, -1.83957034, -1.19184021,  2.95562468, -2.10250003])"
      ]
     },
     "execution_count": 20,
     "metadata": {},
     "output_type": "execute_result"
    }
   ],
   "source": [
    "np.random.normal(1,2,20) # for generating random value"
   ]
  },
  {
   "cell_type": "markdown",
   "id": "3b19c15c",
   "metadata": {},
   "source": [
    "# model ______>>>>>>>>> LinearRegression"
   ]
  },
  {
   "cell_type": "code",
   "execution_count": 21,
   "id": "14b43bf0",
   "metadata": {},
   "outputs": [],
   "source": [
    "from sklearn.linear_model import LinearRegression"
   ]
  },
  {
   "cell_type": "code",
   "execution_count": 22,
   "id": "86659586",
   "metadata": {},
   "outputs": [],
   "source": [
    "# build the model\n",
    "lin_reg =LinearRegression()"
   ]
  },
  {
   "cell_type": "code",
   "execution_count": 23,
   "id": "80fbbd2c",
   "metadata": {},
   "outputs": [
    {
     "name": "stdout",
     "output_type": "stream",
     "text": [
      "X_train data (28, 1)\n",
      "X_test data (7, 1)\n"
     ]
    }
   ],
   "source": [
    "#Reshape the data for training 1D to 2D\n",
    "#reshap the data \n",
    "X_train = X_train.reshape(len(X_train),1)\n",
    "X_test = X_test.reshape(len(X_test),1)\n",
    "print(\"X_train data\",X_train.shape)\n",
    "print(\"X_test data\",X_test.shape)"
   ]
  },
  {
   "cell_type": "code",
   "execution_count": 24,
   "id": "e0d2ca97",
   "metadata": {},
   "outputs": [],
   "source": [
    "#Train the model\n",
    "#lin_reg(X_train,Y_train) if you not converting your data into 2D data "
   ]
  },
  {
   "cell_type": "code",
   "execution_count": 25,
   "id": "25d6fdbf",
   "metadata": {},
   "outputs": [],
   "source": [
    "#Now you can train your model, now each data have treated as a faeture for training "
   ]
  },
  {
   "cell_type": "code",
   "execution_count": 26,
   "id": "a089564e",
   "metadata": {},
   "outputs": [
    {
     "data": {
      "text/plain": [
       "LinearRegression()"
      ]
     },
     "execution_count": 26,
     "metadata": {},
     "output_type": "execute_result"
    }
   ],
   "source": [
    "#Train the model\n",
    "lin_reg = LinearRegression()\n",
    "lin_reg.fit(X_train, Y_train)"
   ]
  },
  {
   "cell_type": "markdown",
   "id": "ddae469c",
   "metadata": {},
   "source": [
    "# slope  value "
   ]
  },
  {
   "cell_type": "code",
   "execution_count": 27,
   "id": "a93d3f15",
   "metadata": {},
   "outputs": [
    {
     "name": "stdout",
     "output_type": "stream",
     "text": [
      "m - [9541.61234117]\n"
     ]
    }
   ],
   "source": [
    "print('m -', lin_reg.coef_)"
   ]
  },
  {
   "cell_type": "markdown",
   "id": "db10aacb",
   "metadata": {},
   "source": [
    "# constant value"
   ]
  },
  {
   "cell_type": "code",
   "execution_count": 28,
   "id": "8a906646",
   "metadata": {},
   "outputs": [
    {
     "name": "stdout",
     "output_type": "stream",
     "text": [
      "c - 24898.801444261313\n"
     ]
    }
   ],
   "source": [
    "print('c -', lin_reg.intercept_)"
   ]
  },
  {
   "cell_type": "code",
   "execution_count": 29,
   "id": "89aa1d90",
   "metadata": {},
   "outputs": [],
   "source": [
    "# y = mx + c\n",
    "# y = 9541.61x + 24898.80"
   ]
  },
  {
   "cell_type": "code",
   "execution_count": 30,
   "id": "adf391ba",
   "metadata": {},
   "outputs": [
    {
     "name": "stdout",
     "output_type": "stream",
     "text": [
      "pred_train_Y - [ 82148.4754913  103140.02264188  62111.08957484  39211.21995602\n",
      "  39211.21995602  53523.63846778  78331.83055483 125085.73102658\n",
      "  37302.89748779  63065.25080895  64019.41204307 107910.82881247\n",
      " 115544.11868541 110773.31251482  92644.24906659  75469.34685248\n",
      "  71652.70191601  63065.25080895 125085.73102658 123177.40855835\n",
      "  43027.86489249 116498.27991952  55431.96093602  45890.34859484\n",
      "  55431.96093602  60202.7671066   73561.02438424  67836.05697954]\n"
     ]
    }
   ],
   "source": [
    "pred_train_Y = lin_reg.predict(X_train)\n",
    "\n",
    "# Y value respected to X value \n",
    "print('pred_train_Y -', pred_train_Y)"
   ]
  },
  {
   "cell_type": "markdown",
   "id": "7adcd4ec",
   "metadata": {},
   "source": [
    "# actual vs prediction on Train data "
   ]
  },
  {
   "cell_type": "code",
   "execution_count": 44,
   "id": "dae6c52d",
   "metadata": {},
   "outputs": [
    {
     "name": "stdout",
     "output_type": "stream",
     "text": [
      "[6.]--=--93940--=--82148.47549130072\n",
      "[8.2]--=--113812--=--103140.0226418818\n",
      "[3.9]--=--63218--=--62111.08957483692\n",
      "[1.5]--=--38747--=--39211.21995602116\n",
      "[1.5]--=--37731--=--39211.21995602116\n",
      "[3.]--=--60150--=--53523.63846778101\n",
      "[5.6]--=--77982--=--78331.83055483142\n",
      "[10.5]--=--124873--=--125085.73102658027\n",
      "[1.3]--=--46205--=--37302.89748778652\n",
      "[4.]--=--55794--=--63065.250808954246\n",
      "[4.1]--=--57081--=--64019.41204307156\n",
      "[8.7]--=--109431--=--107910.82881246845\n",
      "[9.5]--=--116969--=--115544.11868540704\n",
      "[9.]--=--105582--=--110773.3125148204\n",
      "[7.1]--=--98273--=--92644.24906659126\n",
      "[5.3]--=--83088--=--75469.34685247944\n",
      "[4.9]--=--67938--=--71652.70191601016\n",
      "[4.]--=--56957--=--63065.250808954246\n",
      "[10.5]--=--121872--=--125085.73102658027\n",
      "[10.3]--=--122391--=--123177.40855834563\n",
      "[1.9]--=--42575--=--43027.864892490456\n",
      "[9.6]--=--112635--=--116498.27991952436\n",
      "[3.2]--=--54445--=--55431.96093601566\n",
      "[2.2]--=--39891--=--45890.34859484243\n",
      "[3.2]--=--64445--=--55431.96093601566\n",
      "[3.7]--=--57189--=--60202.76710660228\n",
      "[5.1]--=--66029--=--73561.0243842448\n",
      "[4.5]--=--61111--=--67836.05697954085\n"
     ]
    }
   ],
   "source": [
    "for x , actual_y, pred_y in zip(X_train,Y_train,pred_train_Y):     # we can see previous value and our predicted value \n",
    "    print(x,actual_y,pred_y,sep = '--=--')"
   ]
  },
  {
   "cell_type": "code",
   "execution_count": 35,
   "id": "0f0e0667",
   "metadata": {},
   "outputs": [
    {
     "name": "stdout",
     "output_type": "stream",
     "text": [
      "pred_test_Y - [ 55431.96093602 100277.53893953  43982.02612661  81194.31425718\n",
      "  89781.76536424  52569.47723366  35394.57501955]\n"
     ]
    }
   ],
   "source": [
    "pred_test_Y = lin_reg.predict(X_test)\n",
    "\n",
    "# Y value respected to X value \n",
    "print('pred_test_Y -', pred_test_Y)"
   ]
  },
  {
   "cell_type": "markdown",
   "id": "3189f009",
   "metadata": {},
   "source": [
    "# actual vs prediction on Test data "
   ]
  },
  {
   "cell_type": "code",
   "execution_count": 41,
   "id": "12ea5933",
   "metadata": {},
   "outputs": [
    {
     "name": "stdout",
     "output_type": "stream",
     "text": [
      "[3.2]--=--55015--=--55431.96093601566\n",
      "[7.9]--=--101302--=--100277.53893952986\n",
      "[2.]--=--43525--=--43982.02612660778\n",
      "[5.9]--=--81363--=--81194.3142571834\n",
      "[6.8]--=--91738--=--89781.7653642393\n",
      "[2.9]--=--56642--=--52569.47723366369\n",
      "[1.1]--=--39343--=--35394.57501955187\n"
     ]
    }
   ],
   "source": [
    "for x , actual_y, pred_y in zip(X_test,Y_test,pred_test_Y):     # we can see previous value and our predicted value \n",
    "    print(x,actual_y,pred_y,sep = '--=--')"
   ]
  },
  {
   "cell_type": "markdown",
   "id": "fa904694",
   "metadata": {},
   "source": [
    "at x= 3.2 y value is given 55015 and our model is saying 55"
   ]
  },
  {
   "cell_type": "code",
   "execution_count": 43,
   "id": "900b9da5",
   "metadata": {},
   "outputs": [
    {
     "data": {
      "text/html": [
       "<div>\n",
       "<style scoped>\n",
       "    .dataframe tbody tr th:only-of-type {\n",
       "        vertical-align: middle;\n",
       "    }\n",
       "\n",
       "    .dataframe tbody tr th {\n",
       "        vertical-align: top;\n",
       "    }\n",
       "\n",
       "    .dataframe thead th {\n",
       "        text-align: right;\n",
       "    }\n",
       "</style>\n",
       "<table border=\"1\" class=\"dataframe\">\n",
       "  <thead>\n",
       "    <tr style=\"text-align: right;\">\n",
       "      <th></th>\n",
       "      <th>YearsExperience</th>\n",
       "      <th>Salary</th>\n",
       "    </tr>\n",
       "  </thead>\n",
       "  <tbody>\n",
       "    <tr>\n",
       "      <th>0</th>\n",
       "      <td>1.1</td>\n",
       "      <td>39343</td>\n",
       "    </tr>\n",
       "    <tr>\n",
       "      <th>1</th>\n",
       "      <td>1.3</td>\n",
       "      <td>46205</td>\n",
       "    </tr>\n",
       "    <tr>\n",
       "      <th>2</th>\n",
       "      <td>1.5</td>\n",
       "      <td>37731</td>\n",
       "    </tr>\n",
       "    <tr>\n",
       "      <th>3</th>\n",
       "      <td>2.0</td>\n",
       "      <td>43525</td>\n",
       "    </tr>\n",
       "    <tr>\n",
       "      <th>4</th>\n",
       "      <td>2.2</td>\n",
       "      <td>39891</td>\n",
       "    </tr>\n",
       "    <tr>\n",
       "      <th>5</th>\n",
       "      <td>2.9</td>\n",
       "      <td>56642</td>\n",
       "    </tr>\n",
       "    <tr>\n",
       "      <th>6</th>\n",
       "      <td>3.0</td>\n",
       "      <td>60150</td>\n",
       "    </tr>\n",
       "    <tr>\n",
       "      <th>7</th>\n",
       "      <td>3.2</td>\n",
       "      <td>54445</td>\n",
       "    </tr>\n",
       "    <tr>\n",
       "      <th>8</th>\n",
       "      <td>3.2</td>\n",
       "      <td>64445</td>\n",
       "    </tr>\n",
       "    <tr>\n",
       "      <th>9</th>\n",
       "      <td>3.7</td>\n",
       "      <td>57189</td>\n",
       "    </tr>\n",
       "    <tr>\n",
       "      <th>10</th>\n",
       "      <td>3.9</td>\n",
       "      <td>63218</td>\n",
       "    </tr>\n",
       "    <tr>\n",
       "      <th>11</th>\n",
       "      <td>4.0</td>\n",
       "      <td>55794</td>\n",
       "    </tr>\n",
       "    <tr>\n",
       "      <th>12</th>\n",
       "      <td>4.0</td>\n",
       "      <td>56957</td>\n",
       "    </tr>\n",
       "    <tr>\n",
       "      <th>13</th>\n",
       "      <td>4.1</td>\n",
       "      <td>57081</td>\n",
       "    </tr>\n",
       "    <tr>\n",
       "      <th>14</th>\n",
       "      <td>4.5</td>\n",
       "      <td>61111</td>\n",
       "    </tr>\n",
       "    <tr>\n",
       "      <th>15</th>\n",
       "      <td>4.9</td>\n",
       "      <td>67938</td>\n",
       "    </tr>\n",
       "    <tr>\n",
       "      <th>16</th>\n",
       "      <td>5.1</td>\n",
       "      <td>66029</td>\n",
       "    </tr>\n",
       "    <tr>\n",
       "      <th>17</th>\n",
       "      <td>5.3</td>\n",
       "      <td>83088</td>\n",
       "    </tr>\n",
       "    <tr>\n",
       "      <th>18</th>\n",
       "      <td>5.9</td>\n",
       "      <td>81363</td>\n",
       "    </tr>\n",
       "    <tr>\n",
       "      <th>19</th>\n",
       "      <td>6.0</td>\n",
       "      <td>93940</td>\n",
       "    </tr>\n",
       "    <tr>\n",
       "      <th>20</th>\n",
       "      <td>6.8</td>\n",
       "      <td>91738</td>\n",
       "    </tr>\n",
       "    <tr>\n",
       "      <th>21</th>\n",
       "      <td>7.1</td>\n",
       "      <td>98273</td>\n",
       "    </tr>\n",
       "    <tr>\n",
       "      <th>22</th>\n",
       "      <td>7.9</td>\n",
       "      <td>101302</td>\n",
       "    </tr>\n",
       "    <tr>\n",
       "      <th>23</th>\n",
       "      <td>8.2</td>\n",
       "      <td>113812</td>\n",
       "    </tr>\n",
       "    <tr>\n",
       "      <th>24</th>\n",
       "      <td>8.7</td>\n",
       "      <td>109431</td>\n",
       "    </tr>\n",
       "    <tr>\n",
       "      <th>25</th>\n",
       "      <td>9.0</td>\n",
       "      <td>105582</td>\n",
       "    </tr>\n",
       "    <tr>\n",
       "      <th>26</th>\n",
       "      <td>9.5</td>\n",
       "      <td>116969</td>\n",
       "    </tr>\n",
       "    <tr>\n",
       "      <th>27</th>\n",
       "      <td>9.6</td>\n",
       "      <td>112635</td>\n",
       "    </tr>\n",
       "    <tr>\n",
       "      <th>28</th>\n",
       "      <td>10.3</td>\n",
       "      <td>122391</td>\n",
       "    </tr>\n",
       "    <tr>\n",
       "      <th>29</th>\n",
       "      <td>10.5</td>\n",
       "      <td>121872</td>\n",
       "    </tr>\n",
       "    <tr>\n",
       "      <th>30</th>\n",
       "      <td>5.6</td>\n",
       "      <td>77982</td>\n",
       "    </tr>\n",
       "    <tr>\n",
       "      <th>31</th>\n",
       "      <td>3.2</td>\n",
       "      <td>55015</td>\n",
       "    </tr>\n",
       "    <tr>\n",
       "      <th>32</th>\n",
       "      <td>1.5</td>\n",
       "      <td>38747</td>\n",
       "    </tr>\n",
       "    <tr>\n",
       "      <th>33</th>\n",
       "      <td>1.9</td>\n",
       "      <td>42575</td>\n",
       "    </tr>\n",
       "    <tr>\n",
       "      <th>34</th>\n",
       "      <td>10.5</td>\n",
       "      <td>124873</td>\n",
       "    </tr>\n",
       "  </tbody>\n",
       "</table>\n",
       "</div>"
      ],
      "text/plain": [
       "    YearsExperience  Salary\n",
       "0               1.1   39343\n",
       "1               1.3   46205\n",
       "2               1.5   37731\n",
       "3               2.0   43525\n",
       "4               2.2   39891\n",
       "5               2.9   56642\n",
       "6               3.0   60150\n",
       "7               3.2   54445\n",
       "8               3.2   64445\n",
       "9               3.7   57189\n",
       "10              3.9   63218\n",
       "11              4.0   55794\n",
       "12              4.0   56957\n",
       "13              4.1   57081\n",
       "14              4.5   61111\n",
       "15              4.9   67938\n",
       "16              5.1   66029\n",
       "17              5.3   83088\n",
       "18              5.9   81363\n",
       "19              6.0   93940\n",
       "20              6.8   91738\n",
       "21              7.1   98273\n",
       "22              7.9  101302\n",
       "23              8.2  113812\n",
       "24              8.7  109431\n",
       "25              9.0  105582\n",
       "26              9.5  116969\n",
       "27              9.6  112635\n",
       "28             10.3  122391\n",
       "29             10.5  121872\n",
       "30              5.6   77982\n",
       "31              3.2   55015\n",
       "32              1.5   38747\n",
       "33              1.9   42575\n",
       "34             10.5  124873"
      ]
     },
     "execution_count": 43,
     "metadata": {},
     "output_type": "execute_result"
    }
   ],
   "source": [
    "salary_df"
   ]
  },
  {
   "cell_type": "markdown",
   "id": "a1c8a558",
   "metadata": {},
   "source": [
    "# accuracy of our model"
   ]
  },
  {
   "cell_type": "code",
   "execution_count": 48,
   "id": "14c1c974",
   "metadata": {},
   "outputs": [
    {
     "name": "stdout",
     "output_type": "stream",
     "text": [
      "Accuracy - on Train data 96.04808223277365\n"
     ]
    }
   ],
   "source": [
    "print('Accuracy - on Train data' ,lin_reg.score(X_train,Y_train)*100)"
   ]
  },
  {
   "cell_type": "code",
   "execution_count": 49,
   "id": "ac71bb60",
   "metadata": {},
   "outputs": [
    {
     "name": "stdout",
     "output_type": "stream",
     "text": [
      "Accuracy - on Test data 98.9482000011284\n"
     ]
    }
   ],
   "source": [
    "print('Accuracy - on Test data' ,lin_reg.score(X_test,Y_test)*100)"
   ]
  },
  {
   "cell_type": "code",
   "execution_count": 51,
   "id": "e02bb5fa",
   "metadata": {},
   "outputs": [],
   "source": [
    "from sklearn.metrics import mean_squared_error, mean_absolute_error"
   ]
  },
  {
   "cell_type": "markdown",
   "id": "77b8a360",
   "metadata": {},
   "source": [
    "# RMSE on TRAIN DATA "
   ]
  },
  {
   "cell_type": "code",
   "execution_count": 56,
   "id": "61e72db9",
   "metadata": {},
   "outputs": [
    {
     "name": "stdout",
     "output_type": "stream",
     "text": [
      "MEAN Suqre Error 32440891.659921817\n",
      "MEAN Absolute Error 4593.169427389375\n",
      "Root MEAN Suqre Error 5695.690621858057\n"
     ]
    }
   ],
   "source": [
    "print('MEAN Suqre Error', mean_squared_error(Y_train,pred_train_Y))\n",
    "print('MEAN Absolute Error', mean_absolute_error(Y_train,pred_train_Y))\n",
    "print('Root MEAN Suqre Error', np.sqrt(mean_squared_error(Y_train,pred_train_Y)))"
   ]
  },
  {
   "cell_type": "markdown",
   "id": "8760ffcc",
   "metadata": {},
   "source": [
    "# RMSE on TEST DATA "
   ]
  },
  {
   "cell_type": "code",
   "execution_count": 57,
   "id": "f463bcdc",
   "metadata": {},
   "outputs": [
    {
     "name": "stdout",
     "output_type": "stream",
     "text": [
      "MEAN Suqre Error 5351865.729359793\n",
      "MEAN Absolute Error 1720.6166069221892\n",
      "Root MEAN Suqre Error 2313.4099786591637\n"
     ]
    }
   ],
   "source": [
    "print('MEAN Suqre Error', mean_squared_error(Y_test,pred_test_Y))\n",
    "print('MEAN Absolute Error', mean_absolute_error(Y_test,pred_test_Y))\n",
    "print('Root MEAN Suqre Error', np.sqrt(mean_squared_error(Y_test,pred_test_Y)))"
   ]
  },
  {
   "cell_type": "code",
   "execution_count": null,
   "id": "65b1d3a4",
   "metadata": {},
   "outputs": [],
   "source": [
    "# here we can see that RMSE at train is double than Train RMSE so I think this is the clear case of overfitting \n",
    "# we can see that score (accuracy ) also 98 for test data."
   ]
  },
  {
   "cell_type": "markdown",
   "id": "89355f3b",
   "metadata": {},
   "source": [
    "# you discover that the root-mean-squared error (RMSE) of your model is twice as high on the train set as on the test set. How should you improve the performance of your model?\n",
    "\n",
    "# if its saying that RMSE at TRAIN >>>> RMSE at test then its case of OVERFITTING ."
   ]
  },
  {
   "cell_type": "code",
   "execution_count": 31,
   "id": "e0d48a4a",
   "metadata": {},
   "outputs": [
    {
     "data": {
      "text/plain": [
       "[<matplotlib.lines.Line2D at 0x22f6b8129a0>]"
      ]
     },
     "execution_count": 31,
     "metadata": {},
     "output_type": "execute_result"
    },
    {
     "data": {
      "image/png": "[encoded data removed]",
      "text/plain": [
       "<Figure size 640x480 with 1 Axes>"
      ]
     },
     "metadata": {},
     "output_type": "display_data"
    }
   ],
   "source": [
    "plt.plot(X_train,Y_train)"
   ]
  },
  {
   "cell_type": "code",
   "execution_count": 32,
   "id": "d2c052b6",
   "metadata": {},
   "outputs": [
    {
     "data": {
      "text/plain": [
       "[<matplotlib.lines.Line2D at 0x22f6b832d90>]"
      ]
     },
     "execution_count": 32,
     "metadata": {},
     "output_type": "execute_result"
    },
    {
     "data": {
      "image/png": "[encoded data removed]",
      "text/plain": [
       "<Figure size 640x480 with 1 Axes>"
      ]
     },
     "metadata": {},
     "output_type": "display_data"
    }
   ],
   "source": [
    "# Plot Actual Vs Predicted\n",
    "plt.scatter(X_train, Y_train, color='r')\n",
    "plt.plot(X_train,pred_train_Y)"
   ]
  },
  {
   "cell_type": "code",
   "execution_count": 60,
   "id": "5058bef4",
   "metadata": {},
   "outputs": [
    {
     "data": {
      "text/plain": [
       "[<matplotlib.lines.Line2D at 0x22f6ca81be0>]"
      ]
     },
     "execution_count": 60,
     "metadata": {},
     "output_type": "execute_result"
    },
    {
     "data": {
      "image/png": "[encoded data removed]",
      "text/plain": [
       "<Figure size 640x480 with 1 Axes>"
      ]
     },
     "metadata": {},
     "output_type": "display_data"
    }
   ],
   "source": [
    "plt.plot(X_test,Y_test)\n",
    "plt.plot(X_test,pred_test_Y, color='red')"
   ]
  },
  {
   "cell_type": "code",
   "execution_count": 62,
   "id": "b128fb1b",
   "metadata": {},
   "outputs": [
    {
     "data": {
      "text/plain": [
       "Text(0.5, 1.0, 'SALARY vs EXPERIENCE')"
      ]
     },
     "execution_count": 62,
     "metadata": {},
     "output_type": "execute_result"
    },
    {
     "data": {
      "image/png": "[encoded data removed]",
      "text/plain": [
       "<Figure size 640x480 with 1 Axes>"
      ]
     },
     "metadata": {},
     "output_type": "display_data"
    }
   ],
   "source": [
    "plt.plot(X_test,Y_test)\n",
    "plt.plot(X_test,pred_test_Y, color='red')\n",
    "plt.xlabel('Years of Experience',color='brown',size=20)\n",
    "plt.ylabel('Salary',color = 'yellow',size=20)\n",
    "plt.title('SALARY vs EXPERIENCE',color='green',size=20)"
   ]
  },
  {
   "cell_type": "markdown",
   "id": "e112a9d7",
   "metadata": {},
   "source": [
    "# Testing our model on unknow data"
   ]
  },
  {
   "cell_type": "code",
   "execution_count": 91,
   "id": "4523f098",
   "metadata": {},
   "outputs": [
    {
     "data": {
      "text/plain": [
       "(19,)"
      ]
     },
     "execution_count": 91,
     "metadata": {},
     "output_type": "execute_result"
    }
   ],
   "source": [
    "unknow_x_data = np.array([11,23,56,4.7,25,27,15,14,13,20,21,19,17,18,22,24,25,27,22.5])\n",
    "unknow_x_data.shape"
   ]
  },
  {
   "cell_type": "code",
   "execution_count": 92,
   "id": "b9d44c42",
   "metadata": {},
   "outputs": [
    {
     "data": {
      "text/plain": [
       "(19, 1)"
      ]
     },
     "execution_count": 92,
     "metadata": {},
     "output_type": "execute_result"
    }
   ],
   "source": [
    "# testing we need to reshape it\n",
    "unknow_x_data =unknow_x_data.reshape(len(unknow_x_data),1)\n",
    "unknow_x_data.shape"
   ]
  },
  {
   "cell_type": "code",
   "execution_count": 94,
   "id": "4065878d",
   "metadata": {},
   "outputs": [],
   "source": [
    "# Now we can test with our model what will be thw value for this unknow x\n",
    "value_y = lin_reg.predict(unknow_x_data)\n"
   ]
  },
  {
   "cell_type": "code",
   "execution_count": 95,
   "id": "7a62a8f1",
   "metadata": {},
   "outputs": [
    {
     "name": "stdout",
     "output_type": "stream",
     "text": [
      "[[11. ]\n",
      " [23. ]\n",
      " [56. ]\n",
      " [ 4.7]\n",
      " [25. ]\n",
      " [27. ]\n",
      " [15. ]\n",
      " [14. ]\n",
      " [13. ]\n",
      " [20. ]\n",
      " [21. ]\n",
      " [19. ]\n",
      " [17. ]\n",
      " [18. ]\n",
      " [22. ]\n",
      " [24. ]\n",
      " [25. ]\n",
      " [27. ]\n",
      " [22.5]]\n",
      "[129856.53719717 244355.88529125 559229.09254996  69744.37944778\n",
      " 263439.10997359 282522.33465594 168022.98656186 158481.37422069\n",
      " 148939.76187951 215731.04826773 225272.6606089  206189.43592655\n",
      " 187106.21124421 196647.82358538 234814.27295007 253897.49763242\n",
      " 263439.10997359 282522.33465594 239585.07912066]\n"
     ]
    }
   ],
   "source": [
    "print(unknow_x_data)\n",
    "print(value_y)"
   ]
  },
  {
   "cell_type": "code",
   "execution_count": 105,
   "id": "7fd39112",
   "metadata": {},
   "outputs": [
    {
     "data": {
      "text/html": [
       "<div>\n",
       "<style scoped>\n",
       "    .dataframe tbody tr th:only-of-type {\n",
       "        vertical-align: middle;\n",
       "    }\n",
       "\n",
       "    .dataframe tbody tr th {\n",
       "        vertical-align: top;\n",
       "    }\n",
       "\n",
       "    .dataframe thead th {\n",
       "        text-align: right;\n",
       "    }\n",
       "</style>\n",
       "<table border=\"1\" class=\"dataframe\">\n",
       "  <thead>\n",
       "    <tr style=\"text-align: right;\">\n",
       "      <th></th>\n",
       "      <th>0</th>\n",
       "    </tr>\n",
       "  </thead>\n",
       "  <tbody>\n",
       "    <tr>\n",
       "      <th>129856.537197</th>\n",
       "      <td>11.0</td>\n",
       "    </tr>\n",
       "    <tr>\n",
       "      <th>244355.885291</th>\n",
       "      <td>23.0</td>\n",
       "    </tr>\n",
       "    <tr>\n",
       "      <th>559229.092550</th>\n",
       "      <td>56.0</td>\n",
       "    </tr>\n",
       "    <tr>\n",
       "      <th>69744.379448</th>\n",
       "      <td>4.7</td>\n",
       "    </tr>\n",
       "    <tr>\n",
       "      <th>263439.109974</th>\n",
       "      <td>25.0</td>\n",
       "    </tr>\n",
       "    <tr>\n",
       "      <th>282522.334656</th>\n",
       "      <td>27.0</td>\n",
       "    </tr>\n",
       "    <tr>\n",
       "      <th>168022.986562</th>\n",
       "      <td>15.0</td>\n",
       "    </tr>\n",
       "    <tr>\n",
       "      <th>158481.374221</th>\n",
       "      <td>14.0</td>\n",
       "    </tr>\n",
       "    <tr>\n",
       "      <th>148939.761880</th>\n",
       "      <td>13.0</td>\n",
       "    </tr>\n",
       "    <tr>\n",
       "      <th>215731.048268</th>\n",
       "      <td>20.0</td>\n",
       "    </tr>\n",
       "    <tr>\n",
       "      <th>225272.660609</th>\n",
       "      <td>21.0</td>\n",
       "    </tr>\n",
       "    <tr>\n",
       "      <th>206189.435927</th>\n",
       "      <td>19.0</td>\n",
       "    </tr>\n",
       "    <tr>\n",
       "      <th>187106.211244</th>\n",
       "      <td>17.0</td>\n",
       "    </tr>\n",
       "    <tr>\n",
       "      <th>196647.823585</th>\n",
       "      <td>18.0</td>\n",
       "    </tr>\n",
       "    <tr>\n",
       "      <th>234814.272950</th>\n",
       "      <td>22.0</td>\n",
       "    </tr>\n",
       "    <tr>\n",
       "      <th>253897.497632</th>\n",
       "      <td>24.0</td>\n",
       "    </tr>\n",
       "    <tr>\n",
       "      <th>263439.109974</th>\n",
       "      <td>25.0</td>\n",
       "    </tr>\n",
       "    <tr>\n",
       "      <th>282522.334656</th>\n",
       "      <td>27.0</td>\n",
       "    </tr>\n",
       "    <tr>\n",
       "      <th>239585.079121</th>\n",
       "      <td>22.5</td>\n",
       "    </tr>\n",
       "  </tbody>\n",
       "</table>\n",
       "</div>"
      ],
      "text/plain": [
       "                  0\n",
       "129856.537197  11.0\n",
       "244355.885291  23.0\n",
       "559229.092550  56.0\n",
       "69744.379448    4.7\n",
       "263439.109974  25.0\n",
       "282522.334656  27.0\n",
       "168022.986562  15.0\n",
       "158481.374221  14.0\n",
       "148939.761880  13.0\n",
       "215731.048268  20.0\n",
       "225272.660609  21.0\n",
       "206189.435927  19.0\n",
       "187106.211244  17.0\n",
       "196647.823585  18.0\n",
       "234814.272950  22.0\n",
       "253897.497632  24.0\n",
       "263439.109974  25.0\n",
       "282522.334656  27.0\n",
       "239585.079121  22.5"
      ]
     },
     "execution_count": 105,
     "metadata": {},
     "output_type": "execute_result"
    }
   ],
   "source": [
    "new_df = pd.DataFrame(unknow_x_data,value_y)\n",
    "new_df"
   ]
  },
  {
   "cell_type": "markdown",
   "id": "0d8a8d25",
   "metadata": {},
   "source": [
    "# this is the vlue of Y respected X for unknow data ."
   ]
  },
  {
   "cell_type": "code",
   "execution_count": 83,
   "id": "21e0fc0b",
   "metadata": {},
   "outputs": [
    {
     "data": {
      "text/html": [
       "<div>\n",
       "<style scoped>\n",
       "    .dataframe tbody tr th:only-of-type {\n",
       "        vertical-align: middle;\n",
       "    }\n",
       "\n",
       "    .dataframe tbody tr th {\n",
       "        vertical-align: top;\n",
       "    }\n",
       "\n",
       "    .dataframe thead th {\n",
       "        text-align: right;\n",
       "    }\n",
       "</style>\n",
       "<table border=\"1\" class=\"dataframe\">\n",
       "  <thead>\n",
       "    <tr style=\"text-align: right;\">\n",
       "      <th></th>\n",
       "      <th>YearsExperience</th>\n",
       "      <th>Salary</th>\n",
       "    </tr>\n",
       "  </thead>\n",
       "  <tbody>\n",
       "    <tr>\n",
       "      <th>0</th>\n",
       "      <td>1.1</td>\n",
       "      <td>39343</td>\n",
       "    </tr>\n",
       "    <tr>\n",
       "      <th>1</th>\n",
       "      <td>1.3</td>\n",
       "      <td>46205</td>\n",
       "    </tr>\n",
       "    <tr>\n",
       "      <th>2</th>\n",
       "      <td>1.5</td>\n",
       "      <td>37731</td>\n",
       "    </tr>\n",
       "    <tr>\n",
       "      <th>3</th>\n",
       "      <td>2.0</td>\n",
       "      <td>43525</td>\n",
       "    </tr>\n",
       "    <tr>\n",
       "      <th>4</th>\n",
       "      <td>2.2</td>\n",
       "      <td>39891</td>\n",
       "    </tr>\n",
       "    <tr>\n",
       "      <th>5</th>\n",
       "      <td>2.9</td>\n",
       "      <td>56642</td>\n",
       "    </tr>\n",
       "    <tr>\n",
       "      <th>6</th>\n",
       "      <td>3.0</td>\n",
       "      <td>60150</td>\n",
       "    </tr>\n",
       "    <tr>\n",
       "      <th>7</th>\n",
       "      <td>3.2</td>\n",
       "      <td>54445</td>\n",
       "    </tr>\n",
       "    <tr>\n",
       "      <th>8</th>\n",
       "      <td>3.2</td>\n",
       "      <td>64445</td>\n",
       "    </tr>\n",
       "    <tr>\n",
       "      <th>9</th>\n",
       "      <td>3.7</td>\n",
       "      <td>57189</td>\n",
       "    </tr>\n",
       "    <tr>\n",
       "      <th>10</th>\n",
       "      <td>3.9</td>\n",
       "      <td>63218</td>\n",
       "    </tr>\n",
       "    <tr>\n",
       "      <th>11</th>\n",
       "      <td>4.0</td>\n",
       "      <td>55794</td>\n",
       "    </tr>\n",
       "    <tr>\n",
       "      <th>12</th>\n",
       "      <td>4.0</td>\n",
       "      <td>56957</td>\n",
       "    </tr>\n",
       "    <tr>\n",
       "      <th>13</th>\n",
       "      <td>4.1</td>\n",
       "      <td>57081</td>\n",
       "    </tr>\n",
       "    <tr>\n",
       "      <th>14</th>\n",
       "      <td>4.5</td>\n",
       "      <td>61111</td>\n",
       "    </tr>\n",
       "    <tr>\n",
       "      <th>15</th>\n",
       "      <td>4.9</td>\n",
       "      <td>67938</td>\n",
       "    </tr>\n",
       "    <tr>\n",
       "      <th>16</th>\n",
       "      <td>5.1</td>\n",
       "      <td>66029</td>\n",
       "    </tr>\n",
       "    <tr>\n",
       "      <th>17</th>\n",
       "      <td>5.3</td>\n",
       "      <td>83088</td>\n",
       "    </tr>\n",
       "    <tr>\n",
       "      <th>18</th>\n",
       "      <td>5.9</td>\n",
       "      <td>81363</td>\n",
       "    </tr>\n",
       "    <tr>\n",
       "      <th>19</th>\n",
       "      <td>6.0</td>\n",
       "      <td>93940</td>\n",
       "    </tr>\n",
       "    <tr>\n",
       "      <th>20</th>\n",
       "      <td>6.8</td>\n",
       "      <td>91738</td>\n",
       "    </tr>\n",
       "    <tr>\n",
       "      <th>21</th>\n",
       "      <td>7.1</td>\n",
       "      <td>98273</td>\n",
       "    </tr>\n",
       "    <tr>\n",
       "      <th>22</th>\n",
       "      <td>7.9</td>\n",
       "      <td>101302</td>\n",
       "    </tr>\n",
       "    <tr>\n",
       "      <th>23</th>\n",
       "      <td>8.2</td>\n",
       "      <td>113812</td>\n",
       "    </tr>\n",
       "    <tr>\n",
       "      <th>24</th>\n",
       "      <td>8.7</td>\n",
       "      <td>109431</td>\n",
       "    </tr>\n",
       "    <tr>\n",
       "      <th>25</th>\n",
       "      <td>9.0</td>\n",
       "      <td>105582</td>\n",
       "    </tr>\n",
       "    <tr>\n",
       "      <th>26</th>\n",
       "      <td>9.5</td>\n",
       "      <td>116969</td>\n",
       "    </tr>\n",
       "    <tr>\n",
       "      <th>27</th>\n",
       "      <td>9.6</td>\n",
       "      <td>112635</td>\n",
       "    </tr>\n",
       "    <tr>\n",
       "      <th>28</th>\n",
       "      <td>10.3</td>\n",
       "      <td>122391</td>\n",
       "    </tr>\n",
       "    <tr>\n",
       "      <th>29</th>\n",
       "      <td>10.5</td>\n",
       "      <td>121872</td>\n",
       "    </tr>\n",
       "    <tr>\n",
       "      <th>30</th>\n",
       "      <td>5.6</td>\n",
       "      <td>77982</td>\n",
       "    </tr>\n",
       "    <tr>\n",
       "      <th>31</th>\n",
       "      <td>3.2</td>\n",
       "      <td>55015</td>\n",
       "    </tr>\n",
       "    <tr>\n",
       "      <th>32</th>\n",
       "      <td>1.5</td>\n",
       "      <td>38747</td>\n",
       "    </tr>\n",
       "    <tr>\n",
       "      <th>33</th>\n",
       "      <td>1.9</td>\n",
       "      <td>42575</td>\n",
       "    </tr>\n",
       "    <tr>\n",
       "      <th>34</th>\n",
       "      <td>10.5</td>\n",
       "      <td>124873</td>\n",
       "    </tr>\n",
       "  </tbody>\n",
       "</table>\n",
       "</div>"
      ],
      "text/plain": [
       "    YearsExperience  Salary\n",
       "0               1.1   39343\n",
       "1               1.3   46205\n",
       "2               1.5   37731\n",
       "3               2.0   43525\n",
       "4               2.2   39891\n",
       "5               2.9   56642\n",
       "6               3.0   60150\n",
       "7               3.2   54445\n",
       "8               3.2   64445\n",
       "9               3.7   57189\n",
       "10              3.9   63218\n",
       "11              4.0   55794\n",
       "12              4.0   56957\n",
       "13              4.1   57081\n",
       "14              4.5   61111\n",
       "15              4.9   67938\n",
       "16              5.1   66029\n",
       "17              5.3   83088\n",
       "18              5.9   81363\n",
       "19              6.0   93940\n",
       "20              6.8   91738\n",
       "21              7.1   98273\n",
       "22              7.9  101302\n",
       "23              8.2  113812\n",
       "24              8.7  109431\n",
       "25              9.0  105582\n",
       "26              9.5  116969\n",
       "27              9.6  112635\n",
       "28             10.3  122391\n",
       "29             10.5  121872\n",
       "30              5.6   77982\n",
       "31              3.2   55015\n",
       "32              1.5   38747\n",
       "33              1.9   42575\n",
       "34             10.5  124873"
      ]
     },
     "execution_count": 83,
     "metadata": {},
     "output_type": "execute_result"
    }
   ],
   "source": [
    "salary_df"
   ]
  },
  {
   "cell_type": "code",
   "execution_count": 97,
   "id": "d942569d",
   "metadata": {},
   "outputs": [
    {
     "data": {
      "text/html": [
       "<div>\n",
       "<style scoped>\n",
       "    .dataframe tbody tr th:only-of-type {\n",
       "        vertical-align: middle;\n",
       "    }\n",
       "\n",
       "    .dataframe tbody tr th {\n",
       "        vertical-align: top;\n",
       "    }\n",
       "\n",
       "    .dataframe thead th {\n",
       "        text-align: right;\n",
       "    }\n",
       "</style>\n",
       "<table border=\"1\" class=\"dataframe\">\n",
       "  <thead>\n",
       "    <tr style=\"text-align: right;\">\n",
       "      <th></th>\n",
       "      <th>0</th>\n",
       "    </tr>\n",
       "  </thead>\n",
       "  <tbody>\n",
       "    <tr>\n",
       "      <th>129856.537197</th>\n",
       "      <td>11.0</td>\n",
       "    </tr>\n",
       "    <tr>\n",
       "      <th>244355.885291</th>\n",
       "      <td>23.0</td>\n",
       "    </tr>\n",
       "    <tr>\n",
       "      <th>559229.092550</th>\n",
       "      <td>56.0</td>\n",
       "    </tr>\n",
       "    <tr>\n",
       "      <th>69744.379448</th>\n",
       "      <td>4.7</td>\n",
       "    </tr>\n",
       "    <tr>\n",
       "      <th>263439.109974</th>\n",
       "      <td>25.0</td>\n",
       "    </tr>\n",
       "    <tr>\n",
       "      <th>282522.334656</th>\n",
       "      <td>27.0</td>\n",
       "    </tr>\n",
       "    <tr>\n",
       "      <th>168022.986562</th>\n",
       "      <td>15.0</td>\n",
       "    </tr>\n",
       "    <tr>\n",
       "      <th>158481.374221</th>\n",
       "      <td>14.0</td>\n",
       "    </tr>\n",
       "    <tr>\n",
       "      <th>148939.761880</th>\n",
       "      <td>13.0</td>\n",
       "    </tr>\n",
       "    <tr>\n",
       "      <th>215731.048268</th>\n",
       "      <td>20.0</td>\n",
       "    </tr>\n",
       "    <tr>\n",
       "      <th>225272.660609</th>\n",
       "      <td>21.0</td>\n",
       "    </tr>\n",
       "    <tr>\n",
       "      <th>206189.435927</th>\n",
       "      <td>19.0</td>\n",
       "    </tr>\n",
       "    <tr>\n",
       "      <th>187106.211244</th>\n",
       "      <td>17.0</td>\n",
       "    </tr>\n",
       "    <tr>\n",
       "      <th>196647.823585</th>\n",
       "      <td>18.0</td>\n",
       "    </tr>\n",
       "    <tr>\n",
       "      <th>234814.272950</th>\n",
       "      <td>22.0</td>\n",
       "    </tr>\n",
       "    <tr>\n",
       "      <th>253897.497632</th>\n",
       "      <td>24.0</td>\n",
       "    </tr>\n",
       "    <tr>\n",
       "      <th>263439.109974</th>\n",
       "      <td>25.0</td>\n",
       "    </tr>\n",
       "    <tr>\n",
       "      <th>282522.334656</th>\n",
       "      <td>27.0</td>\n",
       "    </tr>\n",
       "    <tr>\n",
       "      <th>239585.079121</th>\n",
       "      <td>22.5</td>\n",
       "    </tr>\n",
       "  </tbody>\n",
       "</table>\n",
       "</div>"
      ],
      "text/plain": [
       "                  0\n",
       "129856.537197  11.0\n",
       "244355.885291  23.0\n",
       "559229.092550  56.0\n",
       "69744.379448    4.7\n",
       "263439.109974  25.0\n",
       "282522.334656  27.0\n",
       "168022.986562  15.0\n",
       "158481.374221  14.0\n",
       "148939.761880  13.0\n",
       "215731.048268  20.0\n",
       "225272.660609  21.0\n",
       "206189.435927  19.0\n",
       "187106.211244  17.0\n",
       "196647.823585  18.0\n",
       "234814.272950  22.0\n",
       "253897.497632  24.0\n",
       "263439.109974  25.0\n",
       "282522.334656  27.0\n",
       "239585.079121  22.5"
      ]
     },
     "execution_count": 97,
     "metadata": {},
     "output_type": "execute_result"
    }
   ],
   "source": [
    "new_df # predicted --------------"
   ]
  },
  {
   "cell_type": "code",
   "execution_count": 99,
   "id": "f395de95",
   "metadata": {},
   "outputs": [
    {
     "ename": "KeyError",
     "evalue": "1",
     "output_type": "error",
     "traceback": [
      "\u001b[1;31m---------------------------------------------------------------------------\u001b[0m",
      "\u001b[1;31mValueError\u001b[0m                                Traceback (most recent call last)",
      "\u001b[1;32m~\\Anaconda3\\lib\\site-packages\\pandas\\core\\indexes\\range.py\u001b[0m in \u001b[0;36mget_loc\u001b[1;34m(self, key, method, tolerance)\u001b[0m\n\u001b[0;32m    384\u001b[0m                 \u001b[1;32mtry\u001b[0m\u001b[1;33m:\u001b[0m\u001b[1;33m\u001b[0m\u001b[1;33m\u001b[0m\u001b[0m\n\u001b[1;32m--> 385\u001b[1;33m                     \u001b[1;32mreturn\u001b[0m \u001b[0mself\u001b[0m\u001b[1;33m.\u001b[0m\u001b[0m_range\u001b[0m\u001b[1;33m.\u001b[0m\u001b[0mindex\u001b[0m\u001b[1;33m(\u001b[0m\u001b[0mnew_key\u001b[0m\u001b[1;33m)\u001b[0m\u001b[1;33m\u001b[0m\u001b[1;33m\u001b[0m\u001b[0m\n\u001b[0m\u001b[0;32m    386\u001b[0m                 \u001b[1;32mexcept\u001b[0m \u001b[0mValueError\u001b[0m \u001b[1;32mas\u001b[0m \u001b[0merr\u001b[0m\u001b[1;33m:\u001b[0m\u001b[1;33m\u001b[0m\u001b[1;33m\u001b[0m\u001b[0m\n",
      "\u001b[1;31mValueError\u001b[0m: 1 is not in range",
      "\nThe above exception was the direct cause of the following exception:\n",
      "\u001b[1;31mKeyError\u001b[0m                                  Traceback (most recent call last)",
      "\u001b[1;32m~\\AppData\\Local\\Temp\\ipykernel_16892\\1711855282.py\u001b[0m in \u001b[0;36m<module>\u001b[1;34m\u001b[0m\n\u001b[1;32m----> 1\u001b[1;33m \u001b[0mplt\u001b[0m\u001b[1;33m.\u001b[0m\u001b[0mbar\u001b[0m\u001b[1;33m(\u001b[0m\u001b[0mnew_df\u001b[0m\u001b[1;33m[\u001b[0m\u001b[1;36m0\u001b[0m\u001b[1;33m]\u001b[0m\u001b[1;33m,\u001b[0m\u001b[0mnew_df\u001b[0m\u001b[1;33m[\u001b[0m\u001b[1;36m1\u001b[0m\u001b[1;33m]\u001b[0m\u001b[1;33m)\u001b[0m\u001b[1;33m\u001b[0m\u001b[1;33m\u001b[0m\u001b[0m\n\u001b[0m",
      "\u001b[1;32m~\\Anaconda3\\lib\\site-packages\\pandas\\core\\frame.py\u001b[0m in \u001b[0;36m__getitem__\u001b[1;34m(self, key)\u001b[0m\n\u001b[0;32m   3503\u001b[0m             \u001b[1;32mif\u001b[0m \u001b[0mself\u001b[0m\u001b[1;33m.\u001b[0m\u001b[0mcolumns\u001b[0m\u001b[1;33m.\u001b[0m\u001b[0mnlevels\u001b[0m \u001b[1;33m>\u001b[0m \u001b[1;36m1\u001b[0m\u001b[1;33m:\u001b[0m\u001b[1;33m\u001b[0m\u001b[1;33m\u001b[0m\u001b[0m\n\u001b[0;32m   3504\u001b[0m                 \u001b[1;32mreturn\u001b[0m \u001b[0mself\u001b[0m\u001b[1;33m.\u001b[0m\u001b[0m_getitem_multilevel\u001b[0m\u001b[1;33m(\u001b[0m\u001b[0mkey\u001b[0m\u001b[1;33m)\u001b[0m\u001b[1;33m\u001b[0m\u001b[1;33m\u001b[0m\u001b[0m\n\u001b[1;32m-> 3505\u001b[1;33m             \u001b[0mindexer\u001b[0m \u001b[1;33m=\u001b[0m \u001b[0mself\u001b[0m\u001b[1;33m.\u001b[0m\u001b[0mcolumns\u001b[0m\u001b[1;33m.\u001b[0m\u001b[0mget_loc\u001b[0m\u001b[1;33m(\u001b[0m\u001b[0mkey\u001b[0m\u001b[1;33m)\u001b[0m\u001b[1;33m\u001b[0m\u001b[1;33m\u001b[0m\u001b[0m\n\u001b[0m\u001b[0;32m   3506\u001b[0m             \u001b[1;32mif\u001b[0m \u001b[0mis_integer\u001b[0m\u001b[1;33m(\u001b[0m\u001b[0mindexer\u001b[0m\u001b[1;33m)\u001b[0m\u001b[1;33m:\u001b[0m\u001b[1;33m\u001b[0m\u001b[1;33m\u001b[0m\u001b[0m\n\u001b[0;32m   3507\u001b[0m                 \u001b[0mindexer\u001b[0m \u001b[1;33m=\u001b[0m \u001b[1;33m[\u001b[0m\u001b[0mindexer\u001b[0m\u001b[1;33m]\u001b[0m\u001b[1;33m\u001b[0m\u001b[1;33m\u001b[0m\u001b[0m\n",
      "\u001b[1;32m~\\Anaconda3\\lib\\site-packages\\pandas\\core\\indexes\\range.py\u001b[0m in \u001b[0;36mget_loc\u001b[1;34m(self, key, method, tolerance)\u001b[0m\n\u001b[0;32m    385\u001b[0m                     \u001b[1;32mreturn\u001b[0m \u001b[0mself\u001b[0m\u001b[1;33m.\u001b[0m\u001b[0m_range\u001b[0m\u001b[1;33m.\u001b[0m\u001b[0mindex\u001b[0m\u001b[1;33m(\u001b[0m\u001b[0mnew_key\u001b[0m\u001b[1;33m)\u001b[0m\u001b[1;33m\u001b[0m\u001b[1;33m\u001b[0m\u001b[0m\n\u001b[0;32m    386\u001b[0m                 \u001b[1;32mexcept\u001b[0m \u001b[0mValueError\u001b[0m \u001b[1;32mas\u001b[0m \u001b[0merr\u001b[0m\u001b[1;33m:\u001b[0m\u001b[1;33m\u001b[0m\u001b[1;33m\u001b[0m\u001b[0m\n\u001b[1;32m--> 387\u001b[1;33m                     \u001b[1;32mraise\u001b[0m \u001b[0mKeyError\u001b[0m\u001b[1;33m(\u001b[0m\u001b[0mkey\u001b[0m\u001b[1;33m)\u001b[0m \u001b[1;32mfrom\u001b[0m \u001b[0merr\u001b[0m\u001b[1;33m\u001b[0m\u001b[1;33m\u001b[0m\u001b[0m\n\u001b[0m\u001b[0;32m    388\u001b[0m             \u001b[0mself\u001b[0m\u001b[1;33m.\u001b[0m\u001b[0m_check_indexing_error\u001b[0m\u001b[1;33m(\u001b[0m\u001b[0mkey\u001b[0m\u001b[1;33m)\u001b[0m\u001b[1;33m\u001b[0m\u001b[1;33m\u001b[0m\u001b[0m\n\u001b[0;32m    389\u001b[0m             \u001b[1;32mraise\u001b[0m \u001b[0mKeyError\u001b[0m\u001b[1;33m(\u001b[0m\u001b[0mkey\u001b[0m\u001b[1;33m)\u001b[0m\u001b[1;33m\u001b[0m\u001b[1;33m\u001b[0m\u001b[0m\n",
      "\u001b[1;31mKeyError\u001b[0m: 1"
     ]
    }
   ],
   "source": [
    "plt.bar(new_df[0],new_df[1])"
   ]
  },
  {
   "cell_type": "code",
   "execution_count": null,
   "id": "93b02223",
   "metadata": {},
   "outputs": [],
   "source": []
  }
 ],
 "metadata": {
  "kernelspec": {
   "display_name": "Python 3 (ipykernel)",
   "language": "python",
   "name": "python3"
  },
  "language_info": {
   "codemirror_mode": {
    "name": "ipython",
    "version": 3
   },
   "file_extension": ".py",
   "mimetype": "text/x-python",
   "name": "python",
   "nbconvert_exporter": "python",
   "pygments_lexer": "ipython3",
   "version": "3.9.5"
  }
 },
 "nbformat": 4,
 "nbformat_minor": 5
}
