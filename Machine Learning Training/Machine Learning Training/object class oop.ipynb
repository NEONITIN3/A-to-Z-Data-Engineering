{
 "cells": [
  {
   "cell_type": "markdown",
   "id": "8f79dda8",
   "metadata": {},
   "source": [
    "## class is blueprint or template from which object will created ,\n",
    "\n",
    "##  A class is created by the keyword class. An object is created by calling the class "
   ]
  },
  {
   "cell_type": "code",
   "execution_count": 10,
   "id": "d6145dc4",
   "metadata": {},
   "outputs": [
    {
     "name": "stdout",
     "output_type": "stream",
     "text": [
      "neo  and his age  23\n"
     ]
    }
   ],
   "source": [
    "class detail:\n",
    "        name= 'neo'\n",
    "        age= 23\n",
    "    \n",
    "a2 =  detail() \n",
    "a1 =  detail()  \n",
    "print(a2.name,\" and his age \",a1.age)"
   ]
  },
  {
   "cell_type": "markdown",
   "id": "79ce7a13",
   "metadata": {},
   "source": [
    "## Classes vs Instances\n",
    "Classes are used to create user-defined data structures. Classes define functions called methods, which identify the behaviors and actions that an object created from the class can perform with its data"
   ]
  },
  {
   "cell_type": "markdown",
   "id": "5229c8bb",
   "metadata": {},
   "source": [
    "## While the class is the blueprint, an instance is an object that is built from a class and contains real data. An instance of the Dog class is not a blueprint anymore. It’s an actual dog with a name, like Miles, who’s four years old.\n",
    "\n",
    "object is instance of class"
   ]
  },
  {
   "cell_type": "code",
   "execution_count": null,
   "id": "28a75144",
   "metadata": {},
   "outputs": [],
   "source": []
  },
  {
   "cell_type": "code",
   "execution_count": 9,
   "id": "a2c172e1",
   "metadata": {},
   "outputs": [
    {
     "name": "stdout",
     "output_type": "stream",
     "text": [
      "Fact - 120\n"
     ]
    }
   ],
   "source": [
    "# Reduce\n",
    "from functools import reduce\n",
    "factorial = lambda n1, n2: n1 * n2 \n",
    "'''\n",
    "range(1, 6) => [1, 2, 3, 4, 5]\n",
    "factorial(1, 2) => 2\n",
    "factorial(2, 3) => 6\n",
    "factorial(6, 4) => 24\n",
    "factorial(24, 5) => 120\n",
    "'''\n",
    "fact = reduce(factorial, range(1, 6))\n",
    "print('Fact -', fact)"
   ]
  },
  {
   "cell_type": "markdown",
   "id": "3971cb16",
   "metadata": {},
   "source": [
    "## Instance methods are functions that are defined inside a class and can only be called from an instance of that class. Just like .__init__(), an instance method’s first parameter is always self."
   ]
  },
  {
   "cell_type": "code",
   "execution_count": 18,
   "id": "eed5980c",
   "metadata": {},
   "outputs": [
    {
     "name": "stdout",
     "output_type": "stream",
     "text": [
      "display method - Neo  and his age is 23\n"
     ]
    }
   ],
   "source": [
    "class Employee:\n",
    "    def __init__(self,name,age):\n",
    "        self.name = name \n",
    "        self.age  = age\n",
    "    def Display(self):\n",
    "        return f'{self.name} and his age is {self.age}'\n",
    "obj = Employee('Neo ',23)  #object created\n",
    "print('display method -',obj.Display())   #for that object calling display function"
   ]
  },
  {
   "cell_type": "code",
   "execution_count": 19,
   "id": "e9838367",
   "metadata": {},
   "outputs": [
    {
     "name": "stdout",
     "output_type": "stream",
     "text": [
      "Object Initialized - <__main__.Employee object at 0x0000019E8A231AF0>\n",
      "Method - justin from bangalore earns Rs.25000\n",
      "Name - justin\n",
      "Sal - 25000\n",
      "Company Using Class - THBS\n",
      "Company Using Object - THIS\n",
      "Object Initialized - <__main__.Employee object at 0x0000019E8A334970>\n",
      "Method - Tris from Pune earns Rs.5000\n",
      "--------------------------------------------------\n"
     ]
    }
   ],
   "source": [
    "class Employee:\n",
    "    company = 'THBS'\n",
    "    \n",
    "    # Initialization method\n",
    "    def __init__(self, name, loc, sal=5000):\n",
    "        self.name = name\n",
    "        self.loc = loc\n",
    "        self.__sal = sal\n",
    "        self.company = 'THIS'\n",
    "        print('Object Initialized -', self)\n",
    "\n",
    "    def display_emp(self):\n",
    "        return f'{self.name} from {self.loc} earns Rs.{self.__sal}'\n",
    "\n",
    "    def get_sal(self):\n",
    "        return self.__sal\n",
    "\n",
    "obj = Employee('justin', 'bangalore', 25000)\n",
    "print('Method -', obj.display_emp())\n",
    "\n",
    "print('Name -', obj.name)\n",
    "print('Sal -', obj.get_sal())\n",
    "print('Company Using Class -', Employee.company)\n",
    "print('Company Using Object -', obj.company)\n",
    "\n",
    "obj_1 = Employee(loc='Pune', name='Tris')\n",
    "print('Method -', obj_1.display_emp())\n",
    "\n",
    "print('-' * 50)\n"
   ]
  },
  {
   "cell_type": "markdown",
   "id": "e3991bfd",
   "metadata": {},
   "source": [
    "# # Inheritance"
   ]
  },
  {
   "cell_type": "markdown",
   "id": "a692049d",
   "metadata": {},
   "source": [
    "# parent vs child"
   ]
  },
  {
   "cell_type": "code",
   "execution_count": 25,
   "id": "98909948",
   "metadata": {},
   "outputs": [
    {
     "name": "stdout",
     "output_type": "stream",
     "text": [
      "car toyota with module Amr-301 and price is 12000000\n"
     ]
    }
   ],
   "source": [
    "class car:\n",
    "    company='TATA'\n",
    "    def __init__(self,name,module,price):\n",
    "        self.name = name \n",
    "        self.module = module\n",
    "        self.price = price\n",
    "        \n",
    "    def display(self):\n",
    "        return f'car {self.name} with module {self.module} and price is {self.price}'\n",
    "car1 = car('toyota','Amr-301',12000000)\n",
    "print(car1.display())\n",
    "\n"
   ]
  },
  {
   "cell_type": "markdown",
   "id": "30a488d2",
   "metadata": {},
   "source": [
    "# creating child of car which will need to new class and I need to  give parent \n",
    "# name as parameter in the class"
   ]
  },
  {
   "cell_type": "code",
   "execution_count": 31,
   "id": "12054c12",
   "metadata": {},
   "outputs": [
    {
     "name": "stdout",
     "output_type": "stream",
     "text": [
      "car toyota-09 with module Amr-301 and price is 12000000\n"
     ]
    },
    {
     "data": {
      "text/plain": [
       "False"
      ]
     },
     "execution_count": 31,
     "metadata": {},
     "output_type": "execute_result"
    }
   ],
   "source": [
    "#singel level inheritance\n",
    "class thar(car):\n",
    "    pass\n",
    "obj = thar('toyota-09','Amr-301',12000000)\n",
    "print(obj.display())\n",
    "\n",
    "\n",
    "# to know that this instance (object ) is belong to that class or not (object name , class name)\n",
    "isinstance(obj,thar)  # object and class both are child hai # true \n",
    "isinstance(obj,car)   #object child ka hai but class parent wala # true \n",
    "isinstance(car1,thar)  # object parent ka hai ,to usko child class ka object nahi hoga , child parent ka properties inherit kar sakta hai"
   ]
  },
  {
   "cell_type": "markdown",
   "id": "c26442c5",
   "metadata": {},
   "source": [
    "# child ke sabhi object parent k ho sakte hai but vice-varsa not true"
   ]
  },
  {
   "cell_type": "code",
   "execution_count": null,
   "id": "1c53db7a",
   "metadata": {},
   "outputs": [],
   "source": [
    "# multi level inheritance"
   ]
  },
  {
   "cell_type": "code",
   "execution_count": null,
   "id": "8091d008",
   "metadata": {},
   "outputs": [],
   "source": [
    "class a:\n",
    "    def __init__(self,name,age):\n",
    "        self.name = name\n",
    "        self.age  = age\n",
    "        self.salary = 10000"
   ]
  },
  {
   "cell_type": "code",
   "execution_count": null,
   "id": "09de4165",
   "metadata": {},
   "outputs": [],
   "source": []
  },
  {
   "cell_type": "markdown",
   "id": "8b28dac9",
   "metadata": {},
   "source": [
    "# Exception Handling"
   ]
  },
  {
   "cell_type": "code",
   "execution_count": 32,
   "id": "b743897e",
   "metadata": {},
   "outputs": [
    {
     "name": "stdout",
     "output_type": "stream",
     "text": [
      "1.0\n",
      "5\n",
      "ELSE - No Exceptions\n",
      "FINALLY - Always be Executed\n",
      "After Statements\n",
      "--------------------------------------------------\n",
      "S1\n",
      "Returns - 2\n",
      "--------------------------------------------------\n"
     ]
    }
   ],
   "source": [
    "# Exception Handling\n",
    "try:\n",
    "    print(1/1)\n",
    "    print(2 + 3)\n",
    "except (ZeroDivisionError, AttributeError) as e:\n",
    "    print(f'CE Occurred: {e}')\n",
    "except TypeError as e:\n",
    "    print(f'TE Occurred: {e}')\n",
    "except Exception as e:\n",
    "    print(f'Error Occurred: {e.__class__.__name__} => {e}')\n",
    "else:\n",
    "    print('ELSE - No Exceptions')\n",
    "finally:\n",
    "    print('FINALLY - Always be Executed')\n",
    "    \n",
    "print('After Statements')\n",
    "\n",
    "print('-' * 50)\n",
    "\n",
    "def f1():\n",
    "    try:\n",
    "        print('S1')\n",
    "        return 1\n",
    "    finally:\n",
    "        return 2\n",
    "\n",
    "print('Returns -', f1())\n",
    "\n",
    "print('-' * 50)\n"
   ]
  },
  {
   "cell_type": "code",
   "execution_count": 38,
   "id": "4793542a",
   "metadata": {},
   "outputs": [
    {
     "name": "stdout",
     "output_type": "stream",
     "text": [
      "after this line it will say error zero devision excepion\n"
     ]
    },
    {
     "ename": "ZeroDivisionError",
     "evalue": "division by zero",
     "output_type": "error",
     "traceback": [
      "\u001b[1;31m---------------------------------------------------------------------------\u001b[0m",
      "\u001b[1;31mZeroDivisionError\u001b[0m                         Traceback (most recent call last)",
      "\u001b[1;32m~\\AppData\\Local\\Temp\\ipykernel_3420\\1563280736.py\u001b[0m in \u001b[0;36m<module>\u001b[1;34m\u001b[0m\n\u001b[0;32m      1\u001b[0m \u001b[0mprint\u001b[0m\u001b[1;33m(\u001b[0m\u001b[1;34m'after this line it will say error zero devision excepion'\u001b[0m\u001b[1;33m)\u001b[0m\u001b[1;33m\u001b[0m\u001b[1;33m\u001b[0m\u001b[0m\n\u001b[1;32m----> 2\u001b[1;33m \u001b[0mprint\u001b[0m \u001b[1;33m(\u001b[0m\u001b[1;36m1\u001b[0m\u001b[1;33m/\u001b[0m\u001b[1;36m0\u001b[0m\u001b[1;33m)\u001b[0m\u001b[1;33m\u001b[0m\u001b[1;33m\u001b[0m\u001b[0m\n\u001b[0m\u001b[0;32m      3\u001b[0m \u001b[0mprint\u001b[0m\u001b[1;33m(\u001b[0m\u001b[1;34m\"we cant print because before that we hav error\"\u001b[0m\u001b[1;33m)\u001b[0m\u001b[1;33m\u001b[0m\u001b[1;33m\u001b[0m\u001b[0m\n",
      "\u001b[1;31mZeroDivisionError\u001b[0m: division by zero"
     ]
    }
   ],
   "source": [
    "print('after this line it will say error zero devision excepion')\n",
    "print (1/0)\n",
    "print(\"we cant print because before that we hav error\")"
   ]
  },
  {
   "cell_type": "code",
   "execution_count": 45,
   "id": "06c90028",
   "metadata": {},
   "outputs": [
    {
     "name": "stdout",
     "output_type": "stream",
     "text": [
      "after this line it will say error zero devision excepion we need to hande and print the other line okay\n",
      "Now we can  print because before that we handel the error \n"
     ]
    }
   ],
   "source": [
    "#esi ko handel karenge ab\n",
    "\n",
    "print('after this line it will say error zero devision excepion we need to hande and print the other line okay')\n",
    "try:\n",
    "    print(1/0)\n",
    "except Exception as e:\n",
    "    print(\"Now we can  print because before that we handel the error \")"
   ]
  },
  {
   "cell_type": "code",
   "execution_count": 37,
   "id": "0d31bd61",
   "metadata": {},
   "outputs": [
    {
     "name": "stdout",
     "output_type": "stream",
     "text": [
      "CE Occurred: division by zero\n",
      "even after exception I am printing this line\n"
     ]
    }
   ],
   "source": [
    "try:\n",
    "    print(1/0)\n",
    "    print(2 % 3)\n",
    "except (ZeroDivisionError, AttributeError) as e:\n",
    "    print(f'CE Occurred: {e}')\n",
    "except TypeError as e:\n",
    "    print(f'TE Occurred: {e}')\n",
    "print(\"even after exception I am printing this line this the power of exception handeling\")"
   ]
  },
  {
   "cell_type": "code",
   "execution_count": null,
   "id": "2f1dde1a",
   "metadata": {},
   "outputs": [],
   "source": [
    "def f1():\n",
    "    try:\n",
    "        print('S1')\n",
    "        return 1\n",
    "    finally:\n",
    "        return 2\n",
    "\n",
    "print('Returns -', f1())   # it will exicute finally statement "
   ]
  },
  {
   "cell_type": "code",
   "execution_count": 46,
   "id": "b99e4113",
   "metadata": {},
   "outputs": [
    {
     "ename": "SyntaxError",
     "evalue": "invalid syntax (2408347365.py, line 3)",
     "output_type": "error",
     "traceback": [
      "\u001b[1;36m  File \u001b[1;32m\"C:\\Users\\nitin_gaur\\AppData\\Local\\Temp\\ipykernel_3420\\2408347365.py\"\u001b[1;36m, line \u001b[1;32m3\u001b[0m\n\u001b[1;33m    except as e:\u001b[0m\n\u001b[1;37m           ^\u001b[0m\n\u001b[1;31mSyntaxError\u001b[0m\u001b[1;31m:\u001b[0m invalid syntax\n"
     ]
    }
   ],
   "source": [
    "try : \n",
    "    print(1/0)\n",
    "except as e:"
   ]
  },
  {
   "cell_type": "code",
   "execution_count": 48,
   "id": "3f2561dd",
   "metadata": {},
   "outputs": [
    {
     "name": "stdout",
     "output_type": "stream",
     "text": [
      "9\n"
     ]
    }
   ],
   "source": [
    "   x=9\n",
    "print(x)"
   ]
  },
  {
   "cell_type": "code",
   "execution_count": null,
   "id": "888285fa",
   "metadata": {},
   "outputs": [],
   "source": [
    "class Student:\n",
    "    roll_num=0 \n",
    "    def __init__(self,name,email,course):\n",
    "        self.name=name self.email=email\n",
    "        self.course=course Student.roll_num+=1 \n",
    "        self.roll_num=Student.roll_num \n",
    "        def display(self): \n",
    "            print(self.name) \n",
    "            print(self.email)\n",
    "            print(self.course) \n",
    "            print(self.roll_num) \n",
    "class PG(Student): \n",
    "    def __init__(self,name,email,course,ugdegree):\n",
    "        super().__init__(name,email,course) \n",
    "        self.ugdegree=ugdegree class Guide(Student): \n",
    "            def __init__(self, name, email, course, specialization,assign_pg=None): \n",
    "                super().__init__(name, email, course) self.specialization=specialization if assign_pg is None: self.assign_pg=[] else: self.assign_pg=assign_pg def add_stu(self,stu): if stu not in self.assign_pg: self.assign_pg.append(stu) def add_stu(self,stu): if stu in self.assign_pg: self.assign_pg.remove(stu) def display_stu(self): for stu in self.assign_pg: print(stu.name) stu1=Student(\"sam\",\"sam@gmail.com\",\"cse\") stu2=Student(\"ram\",\"ram@gmail.com\",\"ece\") pg1=PG(\"bhagwati\",\"bhaggu@gmail.com\",\"me\",\"btech\") pg2=PG(\"rajat\",\"rajjo@gmail.com\",\"ee\",\"bca\") guide=Guide(\"Dinesh\",\"dinesh@gmail.com\",\"cse\",\"software\",[stu1,pg1]) #stu1.display() #pg1.display() #print(pg1.ugdegree) guide.display_stu() guide.add_stu(pg1) guide.display_stu()"
   ]
  },
  {
   "cell_type": "code",
   "execution_count": null,
   "id": "10b7b15d",
   "metadata": {},
   "outputs": [],
   "source": []
  },
  {
   "cell_type": "code",
   "execution_count": null,
   "id": "80d7e51e",
   "metadata": {},
   "outputs": [],
   "source": []
  },
  {
   "cell_type": "code",
   "execution_count": null,
   "id": "95b2df73",
   "metadata": {},
   "outputs": [],
   "source": []
  },
  {
   "cell_type": "code",
   "execution_count": null,
   "id": "b4320f37",
   "metadata": {},
   "outputs": [],
   "source": []
  }
 ],
 "metadata": {
  "kernelspec": {
   "display_name": "Python 3 (ipykernel)",
   "language": "python",
   "name": "python3"
  },
  "language_info": {
   "codemirror_mode": {
    "name": "ipython",
    "version": 3
   },
   "file_extension": ".py",
   "mimetype": "text/x-python",
   "name": "python",
   "nbconvert_exporter": "python",
   "pygments_lexer": "ipython3",
   "version": "3.9.13"
  }
 },
 "nbformat": 4,
 "nbformat_minor": 5
}
