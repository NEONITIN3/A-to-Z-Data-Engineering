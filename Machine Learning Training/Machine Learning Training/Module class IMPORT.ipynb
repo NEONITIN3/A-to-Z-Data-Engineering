{
 "cells": [
  {
   "cell_type": "code",
   "execution_count": null,
   "id": "586d8302",
   "metadata": {},
   "outputs": [],
   "source": [
    "# Lamba expression"
   ]
  },
  {
   "cell_type": "code",
   "execution_count": null,
   "id": "291a4ae7",
   "metadata": {},
   "outputs": [],
   "source": [
    "squaring the number"
   ]
  },
  {
   "cell_type": "code",
   "execution_count": 1,
   "id": "796580ed",
   "metadata": {},
   "outputs": [
    {
     "data": {
      "text/plain": [
       "25"
      ]
     },
     "execution_count": 1,
     "metadata": {},
     "output_type": "execute_result"
    }
   ],
   "source": [
    "def sqr(n):\n",
    "    return n*n\n",
    "sqr(5)\n"
   ]
  },
  {
   "cell_type": "code",
   "execution_count": 5,
   "id": "410951bb",
   "metadata": {},
   "outputs": [
    {
     "data": {
      "text/plain": [
       "36"
      ]
     },
     "execution_count": 5,
     "metadata": {},
     "output_type": "execute_result"
    }
   ],
   "source": [
    "sqr_with_lambda = lambda n: n*n   #//var: singal expresiion\n",
    "sqr_with_lambda(6)"
   ]
  },
  {
   "cell_type": "code",
   "execution_count": 6,
   "id": "467238ed",
   "metadata": {},
   "outputs": [
    {
     "data": {
      "text/plain": [
       "function"
      ]
     },
     "execution_count": 6,
     "metadata": {},
     "output_type": "execute_result"
    }
   ],
   "source": [
    "type(sqr_with_lambda)"
   ]
  },
  {
   "cell_type": "code",
   "execution_count": 7,
   "id": "9cd4eea8",
   "metadata": {},
   "outputs": [
    {
     "data": {
      "text/plain": [
       "133"
      ]
     },
     "execution_count": 7,
     "metadata": {},
     "output_type": "execute_result"
    }
   ],
   "source": [
    "calc_sum = lambda *num : sum(num)  # * means taking alll the number from inputs\n",
    "calc_sum(1,2,3,4,5,6,7,8,8,80,9)"
   ]
  },
  {
   "cell_type": "markdown",
   "id": "fc1cf1ff",
   "metadata": {},
   "source": [
    "# find square of n number without loops\n",
    "squar_of_n = lambda "
   ]
  },
  {
   "cell_type": "code",
   "execution_count": 11,
   "id": "80442cdd",
   "metadata": {},
   "outputs": [
    {
     "name": "stdout",
     "output_type": "stream",
     "text": [
      "<map object at 0x000001ACD0C57DF0>\n"
     ]
    }
   ],
   "source": [
    "#squar_of_n = lambda n : n*n\n",
    "squar_of_n = map(lambda n : n*2,[1,2,3,4,5])  # this will give you only refernce if you want see o/p convert it in list or tuple\n",
    "print(squar_of_n)"
   ]
  },
  {
   "cell_type": "code",
   "execution_count": 12,
   "id": "545bab6d",
   "metadata": {},
   "outputs": [
    {
     "name": "stdout",
     "output_type": "stream",
     "text": [
      "[2, 4, 6, 8, 10]\n"
     ]
    }
   ],
   "source": [
    "squar_of_n = list(map(lambda n : n*2,[1,2,3,4,5])) # this will give you only refernce if you want see o/p convert it in list or tuple\n",
    "print(squar_of_n)"
   ]
  },
  {
   "cell_type": "code",
   "execution_count": 22,
   "id": "f91fbff8",
   "metadata": {},
   "outputs": [
    {
     "data": {
      "text/plain": [
       "True"
      ]
     },
     "execution_count": 22,
     "metadata": {},
     "output_type": "execute_result"
    }
   ],
   "source": [
    "check_palindrom = lambda string : string==string[::-1]\n",
    "check_palindrom(\"NeoNitin\")\n",
    "check_palindrom(\"nitin\")"
   ]
  },
  {
   "cell_type": "markdown",
   "id": "4b1fb9b7",
   "metadata": {},
   "source": [
    "#  filtering the strings"
   ]
  },
  {
   "cell_type": "code",
   "execution_count": 23,
   "id": "84c81bb4",
   "metadata": {},
   "outputs": [
    {
     "name": "stdout",
     "output_type": "stream",
     "text": [
      "<filter object at 0x000001ACD0C62A60>\n"
     ]
    }
   ],
   "source": [
    "string=['nitin','kumar','raar','RahaR'] # i want to check which is palindrome\n",
    "check = lambda string : string == string[::-1]\n",
    "check_palindrome = filter(check,['nitin','kumar','raar','RahaR']) # ye bhi refernce print karega we need to convert in list or tuple\n",
    "print(check_palindrome)"
   ]
  },
  {
   "cell_type": "code",
   "execution_count": 24,
   "id": "79e4c6ae",
   "metadata": {},
   "outputs": [
    {
     "name": "stdout",
     "output_type": "stream",
     "text": [
      "['nitin', 'raar', 'RahaR']\n"
     ]
    }
   ],
   "source": [
    "check = lambda string : string == string[::-1]\n",
    "check_palindrome =list(filter(check,['nitin','kumar','raar','RahaR'])) # convert it in list\n",
    "print(check_palindrome)"
   ]
  },
  {
   "cell_type": "markdown",
   "id": "8748d165",
   "metadata": {},
   "source": [
    "# factorial with lambda "
   ]
  },
  {
   "cell_type": "code",
   "execution_count": 25,
   "id": "8816957f",
   "metadata": {},
   "outputs": [
    {
     "data": {
      "text/plain": [
       "120"
      ]
     },
     "execution_count": 25,
     "metadata": {},
     "output_type": "execute_result"
    }
   ],
   "source": [
    "from functools import reduce \n",
    "f = lambda n1,n2:n1*n2\n",
    "fact = reduce(f,range(1,6)) # 6-1 = 5 ka factorial de dega \n",
    "fact"
   ]
  },
  {
   "cell_type": "code",
   "execution_count": null,
   "id": "1084741b",
   "metadata": {},
   "outputs": [],
   "source": []
  },
  {
   "cell_type": "code",
   "execution_count": null,
   "id": "f8a40e8a",
   "metadata": {},
   "outputs": [],
   "source": []
  },
  {
   "cell_type": "code",
   "execution_count": null,
   "id": "e80a7ec3",
   "metadata": {},
   "outputs": [],
   "source": []
  },
  {
   "cell_type": "code",
   "execution_count": null,
   "id": "0519cc15",
   "metadata": {},
   "outputs": [],
   "source": []
  }
 ],
 "metadata": {
  "kernelspec": {
   "display_name": "Python 3 (ipykernel)",
   "language": "python",
   "name": "python3"
  },
  "language_info": {
   "codemirror_mode": {
    "name": "ipython",
    "version": 3
   },
   "file_extension": ".py",
   "mimetype": "text/x-python",
   "name": "python",
   "nbconvert_exporter": "python",
   "pygments_lexer": "ipython3",
   "version": "3.9.13"
  }
 },
 "nbformat": 4,
 "nbformat_minor": 5
}
