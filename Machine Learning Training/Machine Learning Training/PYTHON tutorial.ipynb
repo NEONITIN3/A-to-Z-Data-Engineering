{
 "cells": [
  {
   "cell_type": "markdown",
   "id": "a39789ae",
   "metadata": {},
   "source": [
    "# function"
   ]
  },
  {
   "cell_type": "code",
   "execution_count": 4,
   "id": "18737558",
   "metadata": {},
   "outputs": [
    {
     "name": "stdout",
     "output_type": "stream",
     "text": [
      "---------------------------------------------------------------------------\n"
     ]
    }
   ],
   "source": [
    "print('-' * 75)"
   ]
  },
  {
   "cell_type": "markdown",
   "id": "93c4b5a1",
   "metadata": {},
   "source": [
    "chahe  '' ya \"\" ya \"\"\" \"\"\" Ya ''' ''' sab string hi hota hai"
   ]
  },
  {
   "cell_type": "markdown",
   "id": "b485cb72",
   "metadata": {},
   "source": [
    "fark ye hai '' aur ''' ''' ya \"\"\" \"\"\" me ye paragraph likhna huwa print karna huwa to \"\"\" aur \"\" use karenge to esase new line pe jane ke liye har baar \\n lagana padega esi liye ham \"\"\" use karte hai"
   ]
  },
  {
   "cell_type": "code",
   "execution_count": 5,
   "id": "69cbb579",
   "metadata": {},
   "outputs": [
    {
     "name": "stdout",
     "output_type": "stream",
     "text": [
      "hello neo\n",
      "this is python training program - <class 'str'>\n"
     ]
    }
   ],
   "source": [
    "var = '''hello neo\n",
    "this is python training program'''\n",
    "print(var, '-', type(var))"
   ]
  },
  {
   "cell_type": "code",
   "execution_count": 6,
   "id": "f32e6aad",
   "metadata": {},
   "outputs": [
    {
     "name": "stdout",
     "output_type": "stream",
     "text": [
      "python\n"
     ]
    }
   ],
   "source": [
    "print(\"python\")"
   ]
  },
  {
   "cell_type": "code",
   "execution_count": 8,
   "id": "10cb4e94",
   "metadata": {},
   "outputs": [],
   "source": [
    "import numpy as np"
   ]
  },
  {
   "cell_type": "markdown",
   "id": "fe3c01a4",
   "metadata": {},
   "source": [
    "# DATA TYPE"
   ]
  },
  {
   "cell_type": "code",
   "execution_count": 6,
   "id": "a4ce0833",
   "metadata": {},
   "outputs": [
    {
     "name": "stdout",
     "output_type": "stream",
     "text": [
      "Type of a:  <class 'int'>\n",
      "\n",
      "Type of b:  <class 'float'>\n",
      "\n",
      "Type of c:  <class 'complex'>\n"
     ]
    }
   ],
   "source": [
    "# Python program to\n",
    "# demonstrate numeric value\n",
    "\n",
    "a = 5\n",
    "print(\"Type of a: \", type(a))\n",
    "\n",
    "b = 5.0\n",
    "print(\"\\nType of b: \", type(b))\n",
    "\n",
    "c = 2 + 4j\n",
    "print(\"\\nType of c: \", type(c))\n"
   ]
  },
  {
   "cell_type": "code",
   "execution_count": 14,
   "id": "1309aab6",
   "metadata": {},
   "outputs": [
    {
     "name": "stdout",
     "output_type": "stream",
     "text": [
      "<class 'int'>\n",
      "1220136825991110068701238785423046926253574342803192842192413588385845373153881997605496447502203281863013616477148203584163378722078177200480785205159329285477907571939330603772960859086270429174547882424912726344305670173270769461062802310452644218878789465754777149863494367781037644274033827365397471386477878495438489595537537990423241061271326984327745715546309977202781014561081188373709531016356324432987029563896628911658974769572087926928871281780070265174507768410719624390394322536422605234945850129918571501248706961568141625359056693423813008856249246891564126775654481886506593847951775360894005745238940335798476363944905313062323749066445048824665075946735862074637925184200459369692981022263971952597190945217823331756934581508552332820762820023402626907898342451712006207714640979456116127629145951237229913340169552363850942885592018727433795173014586357570828355780158735432768888680120399882384702151467605445407663535984174430480128938313896881639487469658817504506926365338175055478128640000000000000000000000000000000000000000000000000000000000000000000000000000000000000000000000000000000000000000000000000000\n",
      "<class 'int'>\n"
     ]
    }
   ],
   "source": [
    "import math as m\n",
    "t=5225\n",
    "print(type(t))\n",
    "t=m.factorial(500)\n",
    "print(t)\n",
    "print(type(t))\n",
    "\n",
    "#in python int range unlimited means int is itself double lldouble everything is INT in python "
   ]
  },
  {
   "cell_type": "markdown",
   "id": "1a213a1c",
   "metadata": {},
   "source": [
    "# string"
   ]
  },
  {
   "cell_type": "code",
   "execution_count": 15,
   "id": "0c8c8b63",
   "metadata": {},
   "outputs": [
    {
     "name": "stdout",
     "output_type": "stream",
     "text": [
      "String with the use of Single Quotes: \n",
      "Welcome to the Geeks World\n",
      "\n",
      "String with the use of Double Quotes: \n",
      "I'm a Geek\n",
      "<class 'str'>\n",
      "\n",
      "String with the use of Triple Quotes: \n",
      "I'm a Geek and I live in a world of \"Geeks\"\n",
      "<class 'str'>\n",
      "\n",
      "Creating a multiline String: \n",
      "Geeks\n",
      "\t\t\tFor\n",
      "\t\t\tLife\n"
     ]
    }
   ],
   "source": [
    "# Python Program for\n",
    "# Creation of String\n",
    "\n",
    "# Creating a String\n",
    "# with single Quotes\n",
    "String1 = 'Welcome to the Geeks World'\n",
    "print(\"String with the use of Single Quotes: \")\n",
    "print(String1)\n",
    "\n",
    "# Creating a String\n",
    "# with double Quotes\n",
    "String1 = \"I'm a Geek\"\n",
    "print(\"\\nString with the use of Double Quotes: \")\n",
    "print(String1)\n",
    "print(type(String1))\n",
    "\n",
    "# Creating a String\n",
    "# with triple Quotes\n",
    "String1 = '''I'm a Geek and I live in a world of \"Geeks\"'''\n",
    "print(\"\\nString with the use of Triple Quotes: \")\n",
    "print(String1)\n",
    "print(type(String1))\n",
    "\n",
    "# Creating String with triple\n",
    "# Quotes allows multiple lines\n",
    "String1 = '''Geeks\n",
    "\t\t\tFor\n",
    "\t\t\tLife'''\n",
    "print(\"\\nCreating a multiline String: \")\n",
    "print(String1)\n"
   ]
  },
  {
   "cell_type": "markdown",
   "id": "a02d8799",
   "metadata": {},
   "source": [
    "# DATA Structure in PYTHON"
   ]
  },
  {
   "cell_type": "markdown",
   "id": "5d01c3e1",
   "metadata": {},
   "source": [
    "# LIST\n",
    "collection of elements belongs to any type and its mutable\n",
    "\n",
    "Python Lists are just like the arrays, declared in other languages which is an ordered collection of data. It is very flexible as the items in a list do not need to be of the same type\n",
    "\n",
    "The costly operation is inserting or deleting the element from the beginning of the List as all the elements are needed to be shifted. Insertion and deletion at the end of the list can also become costly in the case where the preallocated memory becomes full."
   ]
  },
  {
   "cell_type": "code",
   "execution_count": 16,
   "id": "a0df4454",
   "metadata": {},
   "outputs": [
    {
     "name": "stdout",
     "output_type": "stream",
     "text": [
      "[1, 2, 3, 'neo', 2.3, 12345, 'nitin']\n"
     ]
    }
   ],
   "source": [
    "List = [1, 2, 3, \"neo\", 2.3,12345,'nitin']\n",
    "print(List)\n"
   ]
  },
  {
   "cell_type": "markdown",
   "id": "ae41b96a",
   "metadata": {},
   "source": [
    "# list is mutable , we can modified in existing element in list"
   ]
  },
  {
   "cell_type": "markdown",
   "id": "e034ed6e",
   "metadata": {},
   "source": [
    "## list, Python dict, or Python set. mutable "
   ]
  },
  {
   "cell_type": "code",
   "execution_count": 18,
   "id": "3ea9dae5",
   "metadata": {},
   "outputs": [
    {
     "name": "stdout",
     "output_type": "stream",
     "text": [
      "[7, 2, 3, 4]\n"
     ]
    }
   ],
   "source": [
    "l=[1,2,3,4]\n",
    "#abhi dekho l0 pe 1 hai mai chahate hu 7 aa jaye to mutable hoaga to \n",
    "#ho jayega othewise nahi kar paoge agar immutable hota to jaie tuple hoat hai\n",
    "l[0]=7\n",
    "print(l)"
   ]
  },
  {
   "cell_type": "markdown",
   "id": "910128da",
   "metadata": {},
   "source": [
    "# Tuple ,string its immutable "
   ]
  },
  {
   "cell_type": "markdown",
   "id": "a4a8332a",
   "metadata": {},
   "source": [
    "## Immutable Objects are of in-built datatypes like int, float, bool, string, Unicode, and tuple. In simple words, an immutable object can’t be changed after it is created."
   ]
  },
  {
   "cell_type": "code",
   "execution_count": 25,
   "id": "79eb8bbf",
   "metadata": {},
   "outputs": [
    {
     "ename": "IndentationError",
     "evalue": "unexpected indent (3390343030.py, line 7)",
     "output_type": "error",
     "traceback": [
      "\u001b[1;36m  File \u001b[1;32m\"C:\\Users\\nitin_gaur\\AppData\\Local\\Temp\\ipykernel_7052\\3390343030.py\"\u001b[1;36m, line \u001b[1;32m7\u001b[0m\n\u001b[1;33m    t[0]=8\u001b[0m\n\u001b[1;37m    ^\u001b[0m\n\u001b[1;31mIndentationError\u001b[0m\u001b[1;31m:\u001b[0m unexpected indent\n"
     ]
    }
   ],
   "source": [
    "t=(1,2,3,4,5)\n",
    "print(type(t))\n",
    "print(t[0])\n",
    "\n",
    "#if i want to change the existing tuple element the see... t[0] pe 1 hai 8 lana chahata hu\n",
    "\n",
    " t[0]=8\n"
   ]
  },
  {
   "cell_type": "code",
   "execution_count": 30,
   "id": "142f8fb4",
   "metadata": {},
   "outputs": [
    {
     "data": {
      "text/plain": [
       "[1, 2, 3, 4, 12]"
      ]
     },
     "execution_count": 30,
     "metadata": {},
     "output_type": "execute_result"
    }
   ],
   "source": [
    "l=[1,2,3,4]\n",
    "\n",
    "l.append(12)\n",
    "\n",
    "l"
   ]
  },
  {
   "cell_type": "markdown",
   "id": "d2abec3b",
   "metadata": {},
   "source": [
    "# list me append karne ka baad bhi ID same rahati hai list ke object ki"
   ]
  },
  {
   "cell_type": "code",
   "execution_count": 34,
   "id": "eda0a5d8",
   "metadata": {},
   "outputs": [
    {
     "name": "stdout",
     "output_type": "stream",
     "text": [
      "2783695421248\n",
      "2783695421248\n",
      "[1, 2, 3, 4, 123]\n"
     ]
    },
    {
     "ename": "AttributeError",
     "evalue": "'tuple' object has no attribute 'append'",
     "output_type": "error",
     "traceback": [
      "\u001b[1;31m---------------------------------------------------------------------------\u001b[0m",
      "\u001b[1;31mAttributeError\u001b[0m                            Traceback (most recent call last)",
      "\u001b[1;32m~\\AppData\\Local\\Temp\\ipykernel_7052\\2224163456.py\u001b[0m in \u001b[0;36m<module>\u001b[1;34m\u001b[0m\n\u001b[0;32m      5\u001b[0m \u001b[0mprint\u001b[0m\u001b[1;33m(\u001b[0m\u001b[0ml\u001b[0m\u001b[1;33m)\u001b[0m\u001b[1;33m\u001b[0m\u001b[1;33m\u001b[0m\u001b[0m\n\u001b[0;32m      6\u001b[0m \u001b[0mt\u001b[0m\u001b[1;33m=\u001b[0m\u001b[1;33m(\u001b[0m\u001b[1;36m12\u001b[0m\u001b[1;33m,\u001b[0m\u001b[1;36m34\u001b[0m\u001b[1;33m,\u001b[0m\u001b[1;36m543\u001b[0m\u001b[1;33m)\u001b[0m\u001b[1;33m\u001b[0m\u001b[1;33m\u001b[0m\u001b[0m\n\u001b[1;32m----> 7\u001b[1;33m \u001b[0mt\u001b[0m\u001b[1;33m=\u001b[0m\u001b[0mt\u001b[0m\u001b[1;33m.\u001b[0m\u001b[0mappend\u001b[0m\u001b[1;33m(\u001b[0m\u001b[1;36m231\u001b[0m\u001b[1;33m)\u001b[0m\u001b[1;33m\u001b[0m\u001b[1;33m\u001b[0m\u001b[0m\n\u001b[0m",
      "\u001b[1;31mAttributeError\u001b[0m: 'tuple' object has no attribute 'append'"
     ]
    }
   ],
   "source": [
    "l=[1,2,3,4]\n",
    "print(id(l))\n",
    "l.append(123)\n",
    "print(id(l))\n",
    "\n",
    "#list me append karne ka baad bhi ID same rahati hai list ke object ki\n",
    "print(l)\n",
    "t=(12,34,543)\n",
    "t=t.append(231)"
   ]
  },
  {
   "cell_type": "markdown",
   "id": "c3b11e55",
   "metadata": {},
   "source": [
    "## I want to add the element in tuple then we can do it with concatination ' tuple ka tuple se"
   ]
  },
  {
   "cell_type": "markdown",
   "id": "07576e08",
   "metadata": {},
   "source": [
    "#  tuple  me append karne ka baad ID change ho jati hai object ki"
   ]
  },
  {
   "cell_type": "code",
   "execution_count": 33,
   "id": "6901fe67",
   "metadata": {},
   "outputs": [
    {
     "name": "stdout",
     "output_type": "stream",
     "text": [
      "(1, 2, 3, 4, 5)\n",
      "2783694984672\n",
      "(1, 2, 3, 4, 5, 12, 35, 66)\n",
      "2783664282416\n"
     ]
    }
   ],
   "source": [
    "t=(1,2,3,4,5)\n",
    "print(t)\n",
    "print(id(t))\n",
    "t=t+(12,35,66)\n",
    "print(t)\n",
    "print(id(t))\n",
    "\n",
    "\n",
    "t=(1,2,3,4,5)\n",
    "print(t)\n",
    "\n",
    "t=t+(12,35,66)\n",
    "print(t)\n",
    "print(id(t))\n",
    "\n",
    "#dekh sakte to tuple ne pg"
   ]
  },
  {
   "cell_type": "code",
   "execution_count": null,
   "id": "5697d6b3",
   "metadata": {},
   "outputs": [],
   "source": [
    "my_list = [1, 2, 3]\n",
    "my_list.append(4)\n",
    "print(my_list)\n",
    " \n",
    "my_list.insert(1, 5)\n",
    "print(my_list)\n",
    " \n",
    "my_list.remove(2)\n",
    "print(my_list)\n",
    " \n",
    "popped_element = my_list.pop(0)\n",
    "print(my_list)        \n",
    "print(popped_element) "
   ]
  },
  {
   "cell_type": "markdown",
   "id": "82afa945",
   "metadata": {},
   "source": [
    "# tuple operation"
   ]
  },
  {
   "cell_type": "code",
   "execution_count": 39,
   "id": "5e1f13a7",
   "metadata": {},
   "outputs": [
    {
     "name": "stdout",
     "output_type": "stream",
     "text": [
      "\n",
      "Tuple with the use of String: \n",
      "('neo', 'For')\n",
      "\n",
      "Tuple using List: \n",
      "List converted into tuple  (1, 2, 4, 5, 6)\n",
      "First element of tuple\n",
      "1\n",
      "\n",
      "Last element of tuple\n",
      "6\n",
      "\n",
      "Third last element of tuple\n",
      "4\n"
     ]
    }
   ],
   "source": [
    "# Creating a Tuple with\n",
    "# the use of Strings\n",
    "Tuple = ('neo', 'For')\n",
    "print(\"\\nTuple with the use of String: \")\n",
    "print(Tuple)\n",
    "\t\n",
    "# Creating a Tuple with\n",
    "# the use of list\n",
    "list1 = [1, 2, 4, 5, 6]\n",
    "print(\"\\nTuple using List: \")\n",
    "Tuple = tuple(list1)\n",
    "print(\"List converted into tuple \" ,Tuple)\n",
    "\n",
    "# Accessing element using indexing\n",
    "print(\"First element of tuple\")\n",
    "print(Tuple[0])\n",
    "\n",
    "# Accessing element from last\n",
    "# negative indexing\n",
    "print(\"\\nLast element of tuple\")\n",
    "print(Tuple[-1])\n",
    "\n",
    "print(\"\\nThird last element of tuple\")\n",
    "print(Tuple[-3])\n"
   ]
  },
  {
   "cell_type": "markdown",
   "id": "172c5fe6",
   "metadata": {},
   "source": [
    "# Set"
   ]
  },
  {
   "cell_type": "markdown",
   "id": "282e7fa5",
   "metadata": {},
   "source": [
    "## is an unordered collection of data that is mutable and does not allow any duplicate element. Sets are basically used to include membership testing and eliminating duplicate entries. The data structure used in this is Hashing, a popular technique to perform insertion, deletion, and traversal in O(1) on average. "
   ]
  },
  {
   "cell_type": "code",
   "execution_count": 40,
   "id": "4609f1a4",
   "metadata": {},
   "outputs": [
    {
     "data": {
      "text/plain": [
       "{1234, 132, 144, 466, 'is', 'neo', 'nitin'}"
      ]
     },
     "execution_count": 40,
     "metadata": {},
     "output_type": "execute_result"
    }
   ],
   "source": [
    "Set = set([1234, 132, 'neo', 144, 'is', 466, 'nitin'])\n",
    "Set"
   ]
  },
  {
   "cell_type": "code",
   "execution_count": 43,
   "id": "a3901675",
   "metadata": {},
   "outputs": [
    {
     "name": "stdout",
     "output_type": "stream",
     "text": [
      "132 is neo 144 1234 466 nitin "
     ]
    }
   ],
   "source": [
    "# Accessing element using\n",
    "# for loop\n",
    "Set = set([1234, 132, 'neo', 144, 'is', 466, 'nitin'])\n",
    "for i in Set:\n",
    "    print(i,end=\" \")  #print(i ) it will print like in one line"
   ]
  },
  {
   "cell_type": "code",
   "execution_count": 45,
   "id": "2352e8de",
   "metadata": {},
   "outputs": [
    {
     "name": "stdout",
     "output_type": "stream",
     "text": [
      "True\n"
     ]
    }
   ],
   "source": [
    "print('neo' in Set)"
   ]
  },
  {
   "cell_type": "markdown",
   "id": "8f463fa5",
   "metadata": {},
   "source": [
    "# FROZENSET frozenset([]) its immutable"
   ]
  },
  {
   "cell_type": "code",
   "execution_count": 46,
   "id": "f12ac686",
   "metadata": {},
   "outputs": [
    {
     "name": "stdout",
     "output_type": "stream",
     "text": [
      "Normal Set\n",
      "{'c', 'b', 'a'}\n",
      "\n",
      "Frozen Set\n",
      "frozenset({'g', 'e', 'f'})\n"
     ]
    }
   ],
   "source": [
    "## # Same as {\"a\", \"b\",\"c\"}\n",
    "normal_set = set([\"a\", \"b\",\"c\"])\n",
    " \n",
    "print(\"Normal Set\")\n",
    "print(normal_set)\n",
    " \n",
    "# A frozen set\n",
    "frozen_set = frozenset([\"e\", \"f\", \"g\"])\n",
    " \n",
    "print(\"\\nFrozen Set\")\n",
    "print(frozen_set)"
   ]
  },
  {
   "cell_type": "markdown",
   "id": "cf438fa7",
   "metadata": {},
   "source": [
    "# Dictionary"
   ]
  },
  {
   "cell_type": "code",
   "execution_count": 51,
   "id": "eef06f3a",
   "metadata": {},
   "outputs": [
    {
     "name": "stdout",
     "output_type": "stream",
     "text": [
      "Accessing a element using key:\n",
      "neo\n"
     ]
    }
   ],
   "source": [
    "l={1:'neo',2:'nitin'}\n",
    "# accessing a element using key\n",
    "print(\"Accessing a element using key:\")\n",
    "print(l[1])"
   ]
  },
  {
   "cell_type": "code",
   "execution_count": 53,
   "id": "b244ae72",
   "metadata": {},
   "outputs": [
    {
     "data": {
      "text/plain": [
       "{'name': 'neo nitin', 'l': [1, 2, 3, 4]}"
      ]
     },
     "execution_count": 53,
     "metadata": {},
     "output_type": "execute_result"
    }
   ],
   "source": [
    "di= {'name':'neo nitin','l':[1,2,3,4]}\n",
    "di"
   ]
  },
  {
   "cell_type": "code",
   "execution_count": 56,
   "id": "6c74e47e",
   "metadata": {},
   "outputs": [
    {
     "data": {
      "text/plain": [
       "{1: 2, 2: 4, 3: 6, 89: 178}"
      ]
     },
     "execution_count": 56,
     "metadata": {},
     "output_type": "execute_result"
    }
   ],
   "source": [
    "di= {x:x*2 for x in [1,2,3,89]}\n",
    "di"
   ]
  },
  {
   "cell_type": "markdown",
   "id": "5bee1dcc",
   "metadata": {},
   "source": [
    "# string Partioning "
   ]
  },
  {
   "cell_type": "code",
   "execution_count": 57,
   "id": "db9cccc1",
   "metadata": {},
   "outputs": [
    {
     "name": "stdout",
     "output_type": "stream",
     "text": [
      "string - python\n",
      "string[-5] - y\n",
      "string[3] - h\n"
     ]
    }
   ],
   "source": [
    "string = 'python'\n",
    "print('string -', string)\n",
    "print('string[-5] -', string[-5])\n",
    "print('string[3] -', string[3])"
   ]
  },
  {
   "cell_type": "code",
   "execution_count": 82,
   "id": "b99f555c",
   "metadata": {},
   "outputs": [
    {
     "name": "stdout",
     "output_type": "stream",
     "text": [
      "8\n",
      "Neonitin\n",
      "eonitin\n",
      "eon\n",
      "entn\n",
      "0 postive index value ->  N\n",
      "1 postive index value ->  e\n",
      "2 postive index value ->  o\n",
      "3 postive index value ->  n\n",
      "4 postive index value ->  i\n",
      "5 postive index value ->  t\n",
      "6 postive index value ->  i\n",
      "7 postive index value ->  n\n",
      "<><><><><><><><><><><><><><><><><><><><><><><><><><><><><><><><><><><><><><><><><><><><><><><><><><><><><><><><><><><>\n",
      "-8  negative index value ->  N\n",
      "-7  negative index value ->  e\n",
      "-6  negative index value ->  o\n",
      "-5  negative index value ->  n\n",
      "-4  negative index value ->  i\n",
      "-3  negative index value ->  t\n",
      "-2  negative index value ->  i\n",
      "-1  negative index value ->  n\n"
     ]
    }
   ],
   "source": [
    "s=\"Neonitin\"\n",
    "print(len(s))\n",
    "print (s[:]) # print all char\n",
    "print(s[1:]) # from index 1 to last\n",
    "print(s[1:4])# 1 to till 3 index 4 is excludive\n",
    "print(s[1::2]) # 2 ke differnce me\n",
    "t= len(s)\n",
    "#positive index\n",
    "for i in range(0,len(s)):\n",
    "    print(i,\"postive index value -> \",s[i])\n",
    "# negative index\n",
    "print(\"<>\" * 59)\n",
    "for i in range(-len(s),0):\n",
    "    print(i,\" negative index value -> \",s[i])"
   ]
  },
  {
   "cell_type": "markdown",
   "id": "179ae002",
   "metadata": {},
   "source": [
    "# Slicing\n",
    "'''\n",
    "\n",
    "0    1     2     3      4      5\n",
    "p    y     t     h      o      n\n",
    "-6   -5    -4    -3     -2     -1     \n",
    "'''"
   ]
  },
  {
   "cell_type": "code",
   "execution_count": 83,
   "id": "4bc3da2b",
   "metadata": {},
   "outputs": [
    {
     "name": "stdout",
     "output_type": "stream",
     "text": [
      "Division - 2.5\n",
      "Floor Division - 2\n",
      "Power of - 25\n"
     ]
    }
   ],
   "source": [
    "print('Division -', 5/2)\n",
    "print('Floor Division -', 5//2)\n",
    "print('Power of -', 5**2)"
   ]
  },
  {
   "cell_type": "code",
   "execution_count": 84,
   "id": "5f3371fe",
   "metadata": {},
   "outputs": [
    {
     "name": "stdout",
     "output_type": "stream",
     "text": [
      "Is php greater than perl - False\n",
      "is string palindrome - False\n",
      "---------------------------------------------------------------------------\n"
     ]
    }
   ],
   "source": [
    "'''\n",
    "Comparison => ==, !=, >, <, >=, <=\n",
    "'''\n",
    "print('Is php greater than perl -', 'PHP' > 'perl')\n",
    "\n",
    "'''\n",
    "Logical => and, or, not\n",
    "'''\n",
    "string = 'A'\n",
    "print('is string palindrome -', len(string) % 2 == 0 and string == string[::-1])\n",
    "\n",
    "print('-' * 75)"
   ]
  },
  {
   "cell_type": "code",
   "execution_count": 87,
   "id": "c2a8cb00",
   "metadata": {},
   "outputs": [
    {
     "ename": "TypeError",
     "evalue": "'tuple' object does not support item assignment",
     "output_type": "error",
     "traceback": [
      "\u001b[1;31m---------------------------------------------------------------------------\u001b[0m",
      "\u001b[1;31mTypeError\u001b[0m                                 Traceback (most recent call last)",
      "\u001b[1;32m~\\AppData\\Local\\Temp\\ipykernel_7052\\1399720013.py\u001b[0m in \u001b[0;36m<module>\u001b[1;34m\u001b[0m\n\u001b[0;32m      2\u001b[0m \u001b[0ma\u001b[0m\u001b[1;33m\u001b[0m\u001b[1;33m\u001b[0m\u001b[0m\n\u001b[0;32m      3\u001b[0m \u001b[0mtype\u001b[0m\u001b[1;33m(\u001b[0m\u001b[0ma\u001b[0m\u001b[1;33m)\u001b[0m\u001b[1;33m\u001b[0m\u001b[1;33m\u001b[0m\u001b[0m\n\u001b[1;32m----> 4\u001b[1;33m \u001b[0ma\u001b[0m\u001b[1;33m[\u001b[0m\u001b[1;36m1\u001b[0m\u001b[1;33m]\u001b[0m\u001b[1;33m=\u001b[0m\u001b[1;36m90\u001b[0m\u001b[1;33m\u001b[0m\u001b[1;33m\u001b[0m\u001b[0m\n\u001b[0m\u001b[0;32m      5\u001b[0m \u001b[0ma\u001b[0m\u001b[1;33m\u001b[0m\u001b[1;33m\u001b[0m\u001b[0m\n",
      "\u001b[1;31mTypeError\u001b[0m: 'tuple' object does not support item assignment"
     ]
    }
   ],
   "source": [
    "a=((1,2,3,4))\n",
    "a\n",
    "type(a)\n",
    "a[1]=90\n",
    "a"
   ]
  },
  {
   "cell_type": "markdown",
   "id": "2cac1d12",
   "metadata": {},
   "source": [
    "# Bytearray\n",
    "# Python Bytearray gives a mutable sequence of integers in the range 0 <= x < 256."
   ]
  },
  {
   "cell_type": "code",
   "execution_count": 90,
   "id": "8c628ac7",
   "metadata": {},
   "outputs": [
    {
     "name": "stdout",
     "output_type": "stream",
     "text": [
      "Creating Bytearray:\n",
      "bytearray(b'\\x01\\x02\\x03\\x04')\n"
     ]
    },
    {
     "data": {
      "text/plain": [
       "bytearray"
      ]
     },
     "execution_count": 90,
     "metadata": {},
     "output_type": "execute_result"
    }
   ],
   "source": [
    "a=bytearray((1,2,3,4))\n",
    "print(\"Creating Bytearray:\")\n",
    "print(a)\n",
    "type(a)"
   ]
  },
  {
   "cell_type": "code",
   "execution_count": null,
   "id": "31d0a03b",
   "metadata": {},
   "outputs": [],
   "source": []
  },
  {
   "cell_type": "markdown",
   "id": "7e5af372",
   "metadata": {},
   "source": [
    "# day -2"
   ]
  },
  {
   "cell_type": "markdown",
   "id": "ad477f8f",
   "metadata": {},
   "source": [
    "# membership operator (in, not in )"
   ]
  },
  {
   "cell_type": "code",
   "execution_count": 91,
   "id": "7a07eb8c",
   "metadata": {},
   "outputs": [
    {
     "name": "stdout",
     "output_type": "stream",
     "text": [
      "True\n"
     ]
    }
   ],
   "source": [
    "s='python'\n",
    "print('on' in s)"
   ]
  },
  {
   "cell_type": "markdown",
   "id": "b2685549",
   "metadata": {},
   "source": [
    "# IDENTITY OPERATOR"
   ]
  },
  {
   "cell_type": "markdown",
   "id": "4d578e9b",
   "metadata": {},
   "source": [
    "## pass by value means it willl not effect original one "
   ]
  },
  {
   "cell_type": "code",
   "execution_count": 98,
   "id": "09a28b43",
   "metadata": {},
   "outputs": [
    {
     "name": "stdout",
     "output_type": "stream",
     "text": [
      "l_a ['NEo', 123, '67']\n",
      "l_b ['NEo', 123]\n",
      "id of l_a 2783695570176\n",
      "id of l_b 2783695516416\n"
     ]
    }
   ],
   "source": [
    "l_a = ['NEo',123]\n",
    "l_b = l_a[:]  # pass by value\n",
    "l_a.append('67')\n",
    "print('l_a', l_a)\n",
    "print('l_b',l_b)\n",
    "print('id of l_a',id(l_a))\n",
    "print('id of l_b',id(l_b))\n"
   ]
  },
  {
   "cell_type": "markdown",
   "id": "0b86b239",
   "metadata": {},
   "source": [
    "# a=b paassing by refernce matalab koi bhi change karenge dono me ho jayega"
   ]
  },
  {
   "cell_type": "code",
   "execution_count": 99,
   "id": "bb0957d2",
   "metadata": {},
   "outputs": [
    {
     "name": "stdout",
     "output_type": "stream",
     "text": [
      "l_a ['NEo', 123, 89, '67']\n",
      "l_b ['NEo', 123, 89, '67']\n",
      "id of l_a 2783694592256\n",
      "id of l_b 2783694592256\n"
     ]
    }
   ],
   "source": [
    "l_a = ['NEo',123,89]\n",
    "l_b = l_a  # pass by reference   \n",
    "l_a.append('67')\n",
    "print('l_a', l_a)\n",
    "print('l_b',l_b)\n",
    "print('id of l_a',id(l_a))\n",
    "print('id of l_b',id(l_b))"
   ]
  },
  {
   "cell_type": "markdown",
   "id": "b1dcdfb1",
   "metadata": {},
   "source": [
    "# * operator  as repetion"
   ]
  },
  {
   "cell_type": "code",
   "execution_count": 100,
   "id": "23948c54",
   "metadata": {},
   "outputs": [
    {
     "name": "stdout",
     "output_type": "stream",
     "text": [
      "NEONEONEONEO\n"
     ]
    }
   ],
   "source": [
    "print(\"NEO\" * 4)"
   ]
  },
  {
   "cell_type": "code",
   "execution_count": 108,
   "id": "a0fcaae6",
   "metadata": {},
   "outputs": [
    {
     "name": "stdout",
     "output_type": "stream",
     "text": [
      "8\n"
     ]
    }
   ],
   "source": [
    "print(2* 4)"
   ]
  },
  {
   "cell_type": "code",
   "execution_count": 109,
   "id": "c0a59e5e",
   "metadata": {},
   "outputs": [
    {
     "name": "stdout",
     "output_type": "stream",
     "text": [
      "ty ty \n"
     ]
    }
   ],
   "source": [
    "print('ty '*2)"
   ]
  },
  {
   "cell_type": "code",
   "execution_count": 107,
   "id": "a02511de",
   "metadata": {},
   "outputs": [
    {
     "name": "stdout",
     "output_type": "stream",
     "text": [
      "(1, 23, 1, 23)\n"
     ]
    }
   ],
   "source": [
    "print((1,23)*2)"
   ]
  },
  {
   "cell_type": "markdown",
   "id": "f80cc17a",
   "metadata": {},
   "source": [
    "# conditional operator"
   ]
  },
  {
   "cell_type": "code",
   "execution_count": 113,
   "id": "2579b804",
   "metadata": {},
   "outputs": [
    {
     "data": {
      "text/plain": [
       "'YES its palindrom'"
      ]
     },
     "execution_count": 113,
     "metadata": {},
     "output_type": "execute_result"
    }
   ],
   "source": [
    "s= 'NITIN' #checking palindrom\n",
    "var='YES its palindrom' if s == s[::-1] else 'NO'\n",
    "var\n"
   ]
  },
  {
   "cell_type": "markdown",
   "id": "28670ccb",
   "metadata": {},
   "source": [
    "# LOOP"
   ]
  },
  {
   "cell_type": "code",
   "execution_count": 120,
   "id": "18613899",
   "metadata": {},
   "outputs": [
    {
     "name": "stdout",
     "output_type": "stream",
     "text": [
      "elemnt 78 id ->  2783634674448\n",
      "elemnt neo id ->  2783694337840\n",
      "elemnt 781 id ->  2783695598736\n",
      "elemnt 980 id ->  2783695598416\n"
     ]
    }
   ],
   "source": [
    "lst = [78,'neo',781,980]\n",
    "for i in lst:\n",
    "    print('elemnt',i,\"id -> \",id(i))"
   ]
  },
  {
   "cell_type": "code",
   "execution_count": null,
   "id": "b9a24bfe",
   "metadata": {},
   "outputs": [],
   "source": [
    "elemnt 78 id ->  2783634674448\n",
    "elemnt neo id ->  2783694337840\n",
    "elemnt 78 id ->  2783634674448\n",
    "elemnt 980 id ->  2783695598320"
   ]
  },
  {
   "cell_type": "markdown",
   "id": "05994f6f",
   "metadata": {},
   "source": [
    "# list comprehension\n",
    "[expression loop condition ]"
   ]
  },
  {
   "cell_type": "code",
   "execution_count": 3,
   "id": "55f1366b",
   "metadata": {},
   "outputs": [
    {
     "name": "stdout",
     "output_type": "stream",
     "text": [
      "SQR LC - [(3, 9, 27), (5, 25, 125), (6, 36, 216), (9, 81, 729), (10, 100, 1000)]\n"
     ]
    }
   ],
   "source": [
    "sqr = [(n, n ** 2, n ** 3) for n in range(1, 11) if n % 3 == 0 or n % 5 == 0]\n",
    "print('SQR LC -', sqr)"
   ]
  },
  {
   "cell_type": "code",
   "execution_count": 4,
   "id": "213f9984",
   "metadata": {},
   "outputs": [
    {
     "name": "stdout",
     "output_type": "stream",
     "text": [
      "[1, 4, 9, 16, 25, 36, 49, 64, 81, 100]\n",
      "[4, 8, 12, 16, 20, 24]\n"
     ]
    }
   ],
   "source": [
    "print([n**2 for n in range(1,11)]) # normal\n",
    "\n",
    "# [expression loop condition ]\n",
    "# squaring only even numbers\n",
    "print([n*2 for n in range(1,13) if n%2 == 0])"
   ]
  },
  {
   "cell_type": "markdown",
   "id": "8ac3fecc",
   "metadata": {},
   "source": [
    "# if and else with list  Comprehension\n",
    "\n",
    "## then [expression , both condition (if,else) ,  loop]"
   ]
  },
  {
   "cell_type": "code",
   "execution_count": 6,
   "id": "94cd8586",
   "metadata": {},
   "outputs": [
    {
     "name": "stdout",
     "output_type": "stream",
     "text": [
      "[3, 4, 9, 8, 15, 12, 21, 16, 27, 20]\n"
     ]
    }
   ],
   "source": [
    "print([n*2 if n%2==0 else n*3 for n in range (1,11)]) # see the differnce"
   ]
  },
  {
   "cell_type": "code",
   "execution_count": 142,
   "id": "56ccf7a2",
   "metadata": {},
   "outputs": [
    {
     "name": "stdout",
     "output_type": "stream",
     "text": [
      "[3, 4, 9, 8, 15, 12, 21, 16, 27, 20]\n"
     ]
    }
   ],
   "source": [
    "# [f(x) if condition else g(x) for x in sequence]\n",
    "\n",
    "print([n*2 if n%2==0 else n*3 for n in range(1,11)])\n"
   ]
  },
  {
   "cell_type": "code",
   "execution_count": 130,
   "id": "08678b42",
   "metadata": {},
   "outputs": [
    {
     "name": "stdout",
     "output_type": "stream",
     "text": [
      "123 is odd\n"
     ]
    }
   ],
   "source": [
    "value = 123\n",
    "print(value, 'is', 'even' if value % 2 == 0 else 'odd')"
   ]
  },
  {
   "cell_type": "code",
   "execution_count": 131,
   "id": "39cb20bf",
   "metadata": {},
   "outputs": [
    {
     "ename": "SyntaxError",
     "evalue": "invalid syntax (403302020.py, line 1)",
     "output_type": "error",
     "traceback": [
      "\u001b[1;36m  File \u001b[1;32m\"C:\\Users\\nitin_gaur\\AppData\\Local\\Temp\\ipykernel_7052\\403302020.py\"\u001b[1;36m, line \u001b[1;32m1\u001b[0m\n\u001b[1;33m    print([for i in range(1,12) i*2 if i%2==0 else i*3])\u001b[0m\n\u001b[1;37m           ^\u001b[0m\n\u001b[1;31mSyntaxError\u001b[0m\u001b[1;31m:\u001b[0m invalid syntax\n"
     ]
    }
   ],
   "source": [
    "print([for i in range(1,12) i*2 if i%2==0 else i*3]) # wrong way \n"
   ]
  },
  {
   "cell_type": "code",
   "execution_count": 135,
   "id": "444aad24",
   "metadata": {},
   "outputs": [
    {
     "data": {
      "text/plain": [
       "['odd', 'even', 'odd', 'even', 'odd', 'even', 'odd', 'even', 'odd']"
      ]
     },
     "execution_count": 135,
     "metadata": {},
     "output_type": "execute_result"
    }
   ],
   "source": [
    "new_list = ['even' if x % 2 == 0 else 'odd' \n",
    "             for x in range(1, 10)]\n",
    "new_list"
   ]
  },
  {
   "cell_type": "code",
   "execution_count": 137,
   "id": "2459e38e",
   "metadata": {},
   "outputs": [
    {
     "name": "stdout",
     "output_type": "stream",
     "text": [
      "['odd', 'even', 'odd', 'even', 'odd', 'even', 'odd', 'even', 'odd']\n"
     ]
    }
   ],
   "source": [
    "print(['even' if x % 2 == 0 else 'odd' for x in range(1, 10)])"
   ]
  },
  {
   "cell_type": "code",
   "execution_count": 9,
   "id": "e4652047",
   "metadata": {},
   "outputs": [
    {
     "name": "stdout",
     "output_type": "stream",
     "text": [
      "[4, 8, 12, 16, 20]\n",
      "[3, 4, 9, 8, 15, 12, 21, 16, 27]\n"
     ]
    }
   ],
   "source": [
    "print([n*2  for n in range(1,11) if n%2 == 0 ])  # expression loop condition \n",
    "print([x*2 if x % 2 == 0 else x*3 for x in range(1, 10)]) # expression condition loop"
   ]
  },
  {
   "cell_type": "markdown",
   "id": "58b25d2d",
   "metadata": {},
   "source": [
    "# lamda function"
   ]
  },
  {
   "cell_type": "code",
   "execution_count": 14,
   "id": "04ddc1bb",
   "metadata": {},
   "outputs": [
    {
     "name": "stdout",
     "output_type": "stream",
     "text": [
      "125\n",
      "36\n"
     ]
    }
   ],
   "source": [
    "# normal function \n",
    "def sqr(n):\n",
    "    return n**3\n",
    "print(sqr(5))\n",
    "    \n",
    "    \n",
    "    # Lamda function\n",
    "sqr = lambda n : n**2\n",
    "print(sqr(6))"
   ]
  },
  {
   "cell_type": "code",
   "execution_count": null,
   "id": "04853459",
   "metadata": {},
   "outputs": [],
   "source": []
  },
  {
   "cell_type": "code",
   "execution_count": null,
   "id": "441dcb7b",
   "metadata": {},
   "outputs": [],
   "source": []
  },
  {
   "cell_type": "code",
   "execution_count": null,
   "id": "2f1526e2",
   "metadata": {},
   "outputs": [],
   "source": []
  },
  {
   "cell_type": "code",
   "execution_count": null,
   "id": "df30d6f4",
   "metadata": {},
   "outputs": [],
   "source": []
  },
  {
   "cell_type": "code",
   "execution_count": null,
   "id": "e4e6ebbd",
   "metadata": {},
   "outputs": [],
   "source": []
  },
  {
   "cell_type": "code",
   "execution_count": null,
   "id": "3d4e2b71",
   "metadata": {},
   "outputs": [],
   "source": []
  },
  {
   "cell_type": "code",
   "execution_count": null,
   "id": "887470b0",
   "metadata": {},
   "outputs": [],
   "source": []
  },
  {
   "cell_type": "code",
   "execution_count": null,
   "id": "1cd0470f",
   "metadata": {},
   "outputs": [],
   "source": []
  },
  {
   "cell_type": "code",
   "execution_count": null,
   "id": "1f78afa7",
   "metadata": {},
   "outputs": [],
   "source": []
  },
  {
   "cell_type": "code",
   "execution_count": null,
   "id": "4ee54a6a",
   "metadata": {},
   "outputs": [],
   "source": []
  },
  {
   "cell_type": "code",
   "execution_count": null,
   "id": "8600a3ef",
   "metadata": {},
   "outputs": [],
   "source": []
  },
  {
   "cell_type": "code",
   "execution_count": null,
   "id": "6f19fbdc",
   "metadata": {},
   "outputs": [],
   "source": []
  },
  {
   "cell_type": "code",
   "execution_count": null,
   "id": "31d857d2",
   "metadata": {},
   "outputs": [],
   "source": []
  },
  {
   "cell_type": "code",
   "execution_count": null,
   "id": "62eec96e",
   "metadata": {},
   "outputs": [],
   "source": []
  },
  {
   "cell_type": "code",
   "execution_count": null,
   "id": "e817a3db",
   "metadata": {},
   "outputs": [],
   "source": []
  },
  {
   "cell_type": "code",
   "execution_count": null,
   "id": "43e92716",
   "metadata": {},
   "outputs": [],
   "source": []
  },
  {
   "cell_type": "code",
   "execution_count": null,
   "id": "0d4fe843",
   "metadata": {},
   "outputs": [],
   "source": []
  },
  {
   "cell_type": "code",
   "execution_count": null,
   "id": "f5127dad",
   "metadata": {},
   "outputs": [],
   "source": []
  },
  {
   "cell_type": "code",
   "execution_count": null,
   "id": "054812d7",
   "metadata": {},
   "outputs": [],
   "source": []
  },
  {
   "cell_type": "code",
   "execution_count": null,
   "id": "79d14286",
   "metadata": {},
   "outputs": [],
   "source": []
  },
  {
   "cell_type": "code",
   "execution_count": null,
   "id": "11338526",
   "metadata": {},
   "outputs": [],
   "source": []
  }
 ],
 "metadata": {
  "kernelspec": {
   "display_name": "Python 3 (ipykernel)",
   "language": "python",
   "name": "python3"
  },
  "language_info": {
   "codemirror_mode": {
    "name": "ipython",
    "version": 3
   },
   "file_extension": ".py",
   "mimetype": "text/x-python",
   "name": "python",
   "nbconvert_exporter": "python",
   "pygments_lexer": "ipython3",
   "version": "3.9.5"
  }
 },
 "nbformat": 4,
 "nbformat_minor": 5
}
